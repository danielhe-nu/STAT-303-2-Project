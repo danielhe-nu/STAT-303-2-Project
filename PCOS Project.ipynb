{
 "cells": [
  {
   "cell_type": "code",
   "execution_count": 6,
   "id": "048fdf93",
   "metadata": {},
   "outputs": [],
   "source": [
    "import pandas as pd\n",
    "import numpy as np\n",
    "import statsmodels.formula.api as smf\n",
    "from statsmodels.formula.api import ols\n",
    "import seaborn as sns\n",
    "import matplotlib.pyplot as plt\n",
    "from imblearn.over_sampling import SMOTE\n",
    "import warnings\n",
    "warnings.filterwarnings(\"ignore\")\n",
    "\n",
    "PCOS = pd.read_csv(\"PCOS.csv\")"
   ]
  },
  {
   "cell_type": "code",
   "execution_count": 24,
   "id": "b3693a08",
   "metadata": {},
   "outputs": [],
   "source": [
    "data = PCOS.loc[:, [\"PCOS (Y/N)\", \"Age (yrs)\", \"Weight (Kg)\", \"Height(Cm)\", \"Pulse rate(bpm)\", \n",
    "                    \"RR (breaths/min)\", \"Marraige Status (Yrs)\", 'Fast food (Y/N)', \"Pregnant(Y/N)\", \n",
    "                    \"No. of aborptions\", \"Hip(inch)\", \"Waist(inch)\", \"Reg.Exercise(Y/N)\", \"Cycle(R/I)\", \n",
    "                    \"hair growth(Y/N)\", \"Pimples(Y/N)\", \"Blood Group\"]]\n",
    "\n",
    "data[\"H/W Ratio\"] = data[\"Hip(inch)\"]/data[\"Waist(inch)\"]\n",
    "data[\"Height(M)\"] = data[\"Height(Cm)\"]/100\n",
    "data[\"BMI\"] = data[\"Weight (Kg)\"]/np.square(data[\"Height(M)\"])\n",
    "data = data.reindex(columns=[\"PCOS (Y/N)\", \"Age (yrs)\", \"Weight (Kg)\", \"Height(Cm)\", \"BMI\", \"Pulse rate(bpm)\", \n",
    "                             \"RR (breaths/min)\", \"Marraige Status (Yrs)\", 'Fast food (Y/N)', \"Pregnant(Y/N)\", \n",
    "                             \"No. of aborptions\", \"H/W Ratio\", \"Reg.Exercise(Y/N)\", \"Cycle(R/I)\", \n",
    "                             \"hair growth(Y/N)\", \"Pimples(Y/N)\", \"Blood Group\"])"
   ]
  },
  {
   "cell_type": "code",
   "execution_count": 25,
   "id": "5b6967a0",
   "metadata": {},
   "outputs": [
    {
     "data": {
      "text/plain": [
       "PCOS (Y/N)               0\n",
       "Age (yrs)                0\n",
       "Weight (Kg)              0\n",
       "Height(Cm)               0\n",
       "BMI                      0\n",
       "Pulse rate(bpm)          0\n",
       "RR (breaths/min)         0\n",
       "Marraige Status (Yrs)    1\n",
       "Fast food (Y/N)          1\n",
       "Pregnant(Y/N)            0\n",
       "No. of aborptions        0\n",
       "H/W Ratio                0\n",
       "Reg.Exercise(Y/N)        0\n",
       "Cycle(R/I)               0\n",
       "hair growth(Y/N)         0\n",
       "Pimples(Y/N)             0\n",
       "Blood Group              0\n",
       "dtype: int64"
      ]
     },
     "execution_count": 25,
     "metadata": {},
     "output_type": "execute_result"
    }
   ],
   "source": [
    "data.isnull().sum()"
   ]
  },
  {
   "cell_type": "code",
   "execution_count": 26,
   "id": "6f095b1b",
   "metadata": {},
   "outputs": [
    {
     "data": {
      "text/plain": [
       "PCOS (Y/N)               0\n",
       "Age (yrs)                0\n",
       "Weight (Kg)              0\n",
       "Height(Cm)               0\n",
       "BMI                      0\n",
       "Pulse rate(bpm)          0\n",
       "RR (breaths/min)         0\n",
       "Marraige Status (Yrs)    0\n",
       "Fast food (Y/N)          0\n",
       "Pregnant(Y/N)            0\n",
       "No. of aborptions        0\n",
       "H/W Ratio                0\n",
       "Reg.Exercise(Y/N)        0\n",
       "Cycle(R/I)               0\n",
       "hair growth(Y/N)         0\n",
       "Pimples(Y/N)             0\n",
       "Blood Group              0\n",
       "dtype: int64"
      ]
     },
     "execution_count": 26,
     "metadata": {},
     "output_type": "execute_result"
    }
   ],
   "source": [
    "data = data[~((data['Marraige Status (Yrs)'].isnull()) | (data['Fast food (Y/N)'].isnull()))]\n",
    "data.isnull().sum()"
   ]
  },
  {
   "cell_type": "code",
   "execution_count": 27,
   "id": "c5a7fd69",
   "metadata": {},
   "outputs": [
    {
     "data": {
      "text/plain": [
       "0    363\n",
       "1    176\n",
       "Name: PCOS (Y/N), dtype: int64"
      ]
     },
     "execution_count": 27,
     "metadata": {},
     "output_type": "execute_result"
    }
   ],
   "source": [
    "data[\"PCOS (Y/N)\"].value_counts()"
   ]
  },
  {
   "cell_type": "code",
   "execution_count": 28,
   "id": "09495f60",
   "metadata": {},
   "outputs": [],
   "source": [
    "X=data.iloc[:,1:]\n",
    "X.isnull().sum()\n",
    "y=data.iloc[:,0]\n",
    "\n",
    "from sklearn.model_selection import train_test_split\n",
    "\n",
    "X_train, X_test, y_train, y_test = train_test_split(X, y, test_size = 0.20, random_state = 20)"
   ]
  },
  {
   "cell_type": "code",
   "execution_count": 29,
   "id": "68a48437",
   "metadata": {},
   "outputs": [
    {
     "name": "stdout",
     "output_type": "stream",
     "text": [
      "Before OverSampling, counts of label '1': 144\n",
      "Before OverSampling, counts of label '0': 287 \n",
      "\n",
      "After OverSampling, the shape of train_X: (574, 16)\n",
      "After OverSampling, the shape of train_y: (574,) \n",
      "\n",
      "After OverSampling, counts of label '1': 287\n",
      "After OverSampling, counts of label '0': 287\n"
     ]
    }
   ],
   "source": [
    "sm = SMOTE(random_state = 2)\n",
    "X_train_res, y_train_res = sm.fit_resample(X_train, y_train.ravel())\n",
    "print(\"Before OverSampling, counts of label '1': {}\".format(sum(y_train == 1)))\n",
    "print(\"Before OverSampling, counts of label '0': {} \\n\".format(sum(y_train == 0)))\n",
    "\n",
    "print('After OverSampling, the shape of train_X: {}'.format(X_train_res.shape))\n",
    "print('After OverSampling, the shape of train_y: {} \\n'.format(y_train_res.shape))\n",
    "  \n",
    "print(\"After OverSampling, counts of label '1': {}\".format(sum(y_train_res == 1)))\n",
    "print(\"After OverSampling, counts of label '0': {}\".format(sum(y_train_res == 0)))"
   ]
  },
  {
   "cell_type": "code",
   "execution_count": 30,
   "id": "2716e8ef",
   "metadata": {},
   "outputs": [],
   "source": [
    "y = pd.DataFrame(y_train_res, columns=[\"PCOS (Y/N)\"])"
   ]
  },
  {
   "cell_type": "code",
   "execution_count": 31,
   "id": "71c0a191",
   "metadata": {},
   "outputs": [
    {
     "data": {
      "text/html": [
       "<div>\n",
       "<style scoped>\n",
       "    .dataframe tbody tr th:only-of-type {\n",
       "        vertical-align: middle;\n",
       "    }\n",
       "\n",
       "    .dataframe tbody tr th {\n",
       "        vertical-align: top;\n",
       "    }\n",
       "\n",
       "    .dataframe thead th {\n",
       "        text-align: right;\n",
       "    }\n",
       "</style>\n",
       "<table border=\"1\" class=\"dataframe\">\n",
       "  <thead>\n",
       "    <tr style=\"text-align: right;\">\n",
       "      <th></th>\n",
       "      <th>PCOS</th>\n",
       "      <th>age</th>\n",
       "      <th>weight</th>\n",
       "      <th>height</th>\n",
       "      <th>BMI</th>\n",
       "      <th>pulse_rate</th>\n",
       "      <th>RR</th>\n",
       "      <th>marriage_years</th>\n",
       "      <th>fast_food</th>\n",
       "      <th>pregnant</th>\n",
       "      <th>number_abortions</th>\n",
       "      <th>h/w_ratio</th>\n",
       "      <th>regular_excercise</th>\n",
       "      <th>cycle</th>\n",
       "      <th>hair_growth</th>\n",
       "      <th>pimples</th>\n",
       "      <th>Blood Group</th>\n",
       "    </tr>\n",
       "  </thead>\n",
       "  <tbody>\n",
       "    <tr>\n",
       "      <th>0</th>\n",
       "      <td>0</td>\n",
       "      <td>36</td>\n",
       "      <td>52.0</td>\n",
       "      <td>150.0</td>\n",
       "      <td>23.111111</td>\n",
       "      <td>80</td>\n",
       "      <td>20</td>\n",
       "      <td>4.0</td>\n",
       "      <td>0.0</td>\n",
       "      <td>0</td>\n",
       "      <td>0</td>\n",
       "      <td>1.052632</td>\n",
       "      <td>0</td>\n",
       "      <td>4</td>\n",
       "      <td>0</td>\n",
       "      <td>0</td>\n",
       "      <td>15</td>\n",
       "    </tr>\n",
       "    <tr>\n",
       "      <th>1</th>\n",
       "      <td>0</td>\n",
       "      <td>36</td>\n",
       "      <td>64.0</td>\n",
       "      <td>150.0</td>\n",
       "      <td>28.444444</td>\n",
       "      <td>72</td>\n",
       "      <td>18</td>\n",
       "      <td>13.0</td>\n",
       "      <td>0.0</td>\n",
       "      <td>1</td>\n",
       "      <td>0</td>\n",
       "      <td>1.085714</td>\n",
       "      <td>0</td>\n",
       "      <td>2</td>\n",
       "      <td>1</td>\n",
       "      <td>1</td>\n",
       "      <td>13</td>\n",
       "    </tr>\n",
       "    <tr>\n",
       "      <th>2</th>\n",
       "      <td>1</td>\n",
       "      <td>33</td>\n",
       "      <td>68.8</td>\n",
       "      <td>165.0</td>\n",
       "      <td>25.270891</td>\n",
       "      <td>72</td>\n",
       "      <td>18</td>\n",
       "      <td>10.0</td>\n",
       "      <td>1.0</td>\n",
       "      <td>1</td>\n",
       "      <td>0</td>\n",
       "      <td>1.111111</td>\n",
       "      <td>0</td>\n",
       "      <td>2</td>\n",
       "      <td>0</td>\n",
       "      <td>1</td>\n",
       "      <td>11</td>\n",
       "    </tr>\n",
       "    <tr>\n",
       "      <th>3</th>\n",
       "      <td>1</td>\n",
       "      <td>34</td>\n",
       "      <td>72.0</td>\n",
       "      <td>158.0</td>\n",
       "      <td>28.841532</td>\n",
       "      <td>72</td>\n",
       "      <td>18</td>\n",
       "      <td>13.0</td>\n",
       "      <td>1.0</td>\n",
       "      <td>0</td>\n",
       "      <td>1</td>\n",
       "      <td>1.085714</td>\n",
       "      <td>0</td>\n",
       "      <td>4</td>\n",
       "      <td>1</td>\n",
       "      <td>1</td>\n",
       "      <td>13</td>\n",
       "    </tr>\n",
       "    <tr>\n",
       "      <th>4</th>\n",
       "      <td>0</td>\n",
       "      <td>39</td>\n",
       "      <td>61.0</td>\n",
       "      <td>152.0</td>\n",
       "      <td>26.402355</td>\n",
       "      <td>72</td>\n",
       "      <td>18</td>\n",
       "      <td>20.0</td>\n",
       "      <td>0.0</td>\n",
       "      <td>0</td>\n",
       "      <td>3</td>\n",
       "      <td>1.058824</td>\n",
       "      <td>1</td>\n",
       "      <td>2</td>\n",
       "      <td>0</td>\n",
       "      <td>0</td>\n",
       "      <td>11</td>\n",
       "    </tr>\n",
       "  </tbody>\n",
       "</table>\n",
       "</div>"
      ],
      "text/plain": [
       "   PCOS  age  weight  height        BMI  pulse_rate  RR  marriage_years  \\\n",
       "0     0   36    52.0   150.0  23.111111          80  20             4.0   \n",
       "1     0   36    64.0   150.0  28.444444          72  18            13.0   \n",
       "2     1   33    68.8   165.0  25.270891          72  18            10.0   \n",
       "3     1   34    72.0   158.0  28.841532          72  18            13.0   \n",
       "4     0   39    61.0   152.0  26.402355          72  18            20.0   \n",
       "\n",
       "   fast_food  pregnant  number_abortions  h/w_ratio  regular_excercise  cycle  \\\n",
       "0        0.0         0                 0   1.052632                  0      4   \n",
       "1        0.0         1                 0   1.085714                  0      2   \n",
       "2        1.0         1                 0   1.111111                  0      2   \n",
       "3        1.0         0                 1   1.085714                  0      4   \n",
       "4        0.0         0                 3   1.058824                  1      2   \n",
       "\n",
       "   hair_growth  pimples  Blood Group  \n",
       "0            0        0           15  \n",
       "1            1        1           13  \n",
       "2            0        1           11  \n",
       "3            1        1           13  \n",
       "4            0        0           11  "
      ]
     },
     "execution_count": 31,
     "metadata": {},
     "output_type": "execute_result"
    }
   ],
   "source": [
    "data = pd.concat([X_train_res, y], axis = 1) \n",
    "data = data.reindex(columns=[\"PCOS (Y/N)\", \"Age (yrs)\", \"Weight (Kg)\", \"Height(Cm)\", \"BMI\", \n",
    "                             \"Pulse rate(bpm)\", \"RR (breaths/min)\", \"Marraige Status (Yrs)\", 'Fast food (Y/N)', \n",
    "                             \"Pregnant(Y/N)\", \"No. of aborptions\", \"H/W Ratio\", \"Reg.Exercise(Y/N)\", \"Cycle(R/I)\",\n",
    "                             \"hair growth(Y/N)\", \"Pimples(Y/N)\", \"Blood Group\"])\n",
    "data = data.rename(columns={\"PCOS (Y/N)\":\"PCOS\", \"Age (yrs)\":\"age\", \"Weight (Kg)\": \"weight\", \"Height(Cm)\": \n",
    "                            \"height\", \"Pulse rate(bpm)\": \"pulse_rate\", \"RR (breaths/min)\": \"RR\", \n",
    "                            \"Marraige Status (Yrs)\": \"marriage_years\", 'Fast food (Y/N)': \"fast_food\", \n",
    "                            \"Pregnant(Y/N)\": \"pregnant\", \"No. of aborptions\": \"number_abortions\", \"H/W Ratio\": \n",
    "                            \"h/w_ratio\", \"Reg.Exercise(Y/N)\": \"regular_excercise\", \"Cycle(R/I)\": \"cycle\", \n",
    "                            \"hair growth(Y/N)\": \"hair_growth\", \"Pimples(Y/N)\": \"pimples\"})"
   ]
  },
  {
   "cell_type": "code",
   "execution_count": 32,
   "id": "76c0ac7a",
   "metadata": {},
   "outputs": [],
   "source": [
    "blood_group_map = {11: \"A+\", 12: \"A-\", 13: \"B+\", 14: \"B-\", 15: \"O+\", 16: \"O-\", 17: \"AB+\", 18: \"AB-\"}\n",
    "\n",
    "data.loc[:, \"blood_group_cat\"] = data.loc[:, \"Blood Group\"].map(blood_group_map)\n",
    "data.drop(columns = 'Blood Group', inplace = True)"
   ]
  },
  {
   "cell_type": "code",
   "execution_count": 38,
   "id": "a22d5fa3",
   "metadata": {},
   "outputs": [
    {
     "data": {
      "text/plain": [
       "0    287\n",
       "1    287\n",
       "Name: PCOS, dtype: int64"
      ]
     },
     "execution_count": 38,
     "metadata": {},
     "output_type": "execute_result"
    }
   ],
   "source": [
    "# balanced sample size after SMOTE\n",
    "data[\"PCOS\"].value_counts()"
   ]
  },
  {
   "cell_type": "code",
   "execution_count": 40,
   "id": "5ce08769",
   "metadata": {},
   "outputs": [],
   "source": [
    "data.loc[:, ['weight', 'height', 'BMI', 'marriage_years', 'fast_food', 'h/w_ratio']] = data.loc[:, ['weight', 'height', 'BMI', 'marriage_years', 'fast_food', 'h/w_ratio']].apply(lambda x: round(x, 2))"
   ]
  },
  {
   "cell_type": "code",
   "execution_count": 42,
   "id": "f57313b6",
   "metadata": {},
   "outputs": [],
   "source": [
    "data.to_csv('cleaned_pcos.csv')"
   ]
  },
  {
   "cell_type": "markdown",
   "id": "753cd618",
   "metadata": {},
   "source": [
    "# EDA"
   ]
  },
  {
   "cell_type": "markdown",
   "id": "5fd6a875",
   "metadata": {},
   "source": [
    "### Brief Intro to Predictors"
   ]
  },
  {
   "cell_type": "markdown",
   "id": "407ed73f",
   "metadata": {},
   "source": [
    "### Categorical Vars"
   ]
  },
  {
   "cell_type": "code",
   "execution_count": 44,
   "id": "dbfda5ed",
   "metadata": {},
   "outputs": [
    {
     "data": {
      "text/plain": [
       "Index(['PCOS', 'age', 'weight', 'height', 'BMI', 'pulse_rate', 'RR',\n",
       "       'marriage_years', 'fast_food', 'pregnant', 'number_abortions',\n",
       "       'h/w_ratio', 'regular_excercise', 'cycle', 'hair_growth', 'pimples',\n",
       "       'blood_group_cat'],\n",
       "      dtype='object')"
      ]
     },
     "execution_count": 44,
     "metadata": {},
     "output_type": "execute_result"
    }
   ],
   "source": [
    "data = pd.read_csv('cleaned_pcos.csv').iloc[:, 1:]\n",
    "data.columns"
   ]
  },
  {
   "cell_type": "code",
   "execution_count": 57,
   "id": "70817535",
   "metadata": {},
   "outputs": [
    {
     "data": {
      "text/plain": [
       "array([36, 33, 34, 39, 29, 20, 40, 30, 28, 35, 31, 26, 37, 32, 27, 22, 38,\n",
       "       25, 23, 45, 43, 48, 24, 21, 41, 42, 47, 44])"
      ]
     },
     "execution_count": 57,
     "metadata": {},
     "output_type": "execute_result"
    }
   ],
   "source": [
    "data['age'].unique()"
   ]
  },
  {
   "cell_type": "markdown",
   "id": "efd1720e",
   "metadata": {},
   "source": [
    "pregnant: Y - 1, N - 0\n",
    "<br> regular_excercise: Y - 1, N - 0\n",
    "<br> hair_growth: Y - 1, N - 0\n",
    "<br> pimples: Y - 1, N - 0\n",
    "<br> blood_group_cat: different blood type"
   ]
  },
  {
   "cell_type": "code",
   "execution_count": 68,
   "id": "13336c60",
   "metadata": {},
   "outputs": [
    {
     "data": {
      "image/png": "[encoded data removed]",
      "text/plain": [
       "<Figure size 432x288 with 1 Axes>"
      ]
     },
     "metadata": {
      "needs_background": "light"
     },
     "output_type": "display_data"
    },
    {
     "data": {
      "image/png": "[encoded data removed]",
      "text/plain": [
       "<Figure size 432x288 with 1 Axes>"
      ]
     },
     "metadata": {
      "needs_background": "light"
     },
     "output_type": "display_data"
    },
    {
     "data": {
      "image/png": "[encoded data removed]",
      "text/plain": [
       "<Figure size 432x288 with 1 Axes>"
      ]
     },
     "metadata": {
      "needs_background": "light"
     },
     "output_type": "display_data"
    },
    {
     "data": {
      "image/png": "[encoded data removed]",
      "text/plain": [
       "<Figure size 432x288 with 1 Axes>"
      ]
     },
     "metadata": {
      "needs_background": "light"
     },
     "output_type": "display_data"
    },
    {
     "data": {
      "image/png": "[encoded data removed]",
      "text/plain": [
       "<Figure size 432x288 with 1 Axes>"
      ]
     },
     "metadata": {
      "needs_background": "light"
     },
     "output_type": "display_data"
    },
    {
     "data": {
      "image/png": "[encoded data removed]",
      "text/plain": [
       "<Figure size 432x288 with 1 Axes>"
      ]
     },
     "metadata": {
      "needs_background": "light"
     },
     "output_type": "display_data"
    }
   ],
   "source": [
    "categorical_variables = ['pregnant', 'regular_excercise', 'hair_growth', 'pimples', 'blood_group_cat', 'number_abortions']\n",
    "for x in categorical_variables:\n",
    "    if x != \"PCOS (Y/N)\":\n",
    "        sns.barplot(x= x, y = \"PCOS\", data = data)\n",
    "        plt.show()"
   ]
  },
  {
   "cell_type": "markdown",
   "id": "bb243f47",
   "metadata": {},
   "source": [
    "### Continuous Vars"
   ]
  },
  {
   "cell_type": "code",
   "execution_count": 69,
   "id": "4a7fdbe6",
   "metadata": {},
   "outputs": [
    {
     "data": {
      "image/png": "[encoded data removed]",
      "text/plain": [
       "<Figure size 432x288 with 1 Axes>"
      ]
     },
     "metadata": {
      "needs_background": "light"
     },
     "output_type": "display_data"
    },
    {
     "data": {
      "image/png": "[encoded data removed]",
      "text/plain": [
       "<Figure size 432x288 with 1 Axes>"
      ]
     },
     "metadata": {
      "needs_background": "light"
     },
     "output_type": "display_data"
    },
    {
     "data": {
      "image/png": "[encoded data removed]",
      "text/plain": [
       "<Figure size 432x288 with 1 Axes>"
      ]
     },
     "metadata": {
      "needs_background": "light"
     },
     "output_type": "display_data"
    },
    {
     "data": {
      "image/png": "[encoded data removed]",
      "text/plain": [
       "<Figure size 432x288 with 1 Axes>"
      ]
     },
     "metadata": {
      "needs_background": "light"
     },
     "output_type": "display_data"
    },
    {
     "data": {
      "image/png": "[encoded data removed]",
      "text/plain": [
       "<Figure size 432x288 with 1 Axes>"
      ]
     },
     "metadata": {
      "needs_background": "light"
     },
     "output_type": "display_data"
    },
    {
     "data": {
      "image/png": "[encoded data removed]",
      "text/plain": [
       "<Figure size 432x288 with 1 Axes>"
      ]
     },
     "metadata": {
      "needs_background": "light"
     },
     "output_type": "display_data"
    },
    {
     "data": {
      "image/png": "[encoded data removed]",
      "text/plain": [
       "<Figure size 432x288 with 1 Axes>"
      ]
     },
     "metadata": {
      "needs_background": "light"
     },
     "output_type": "display_data"
    },
    {
     "data": {
      "image/png": "[encoded data removed]",
      "text/plain": [
       "<Figure size 432x288 with 1 Axes>"
      ]
     },
     "metadata": {
      "needs_background": "light"
     },
     "output_type": "display_data"
    }
   ],
   "source": [
    "continuous_variables = ['age', 'weight', 'height', 'BMI', 'pulse_rate', 'RR',\n",
    "       'marriage_years', 'h/w_ratio']\n",
    "for y in continuous_variables:\n",
    "    sns.boxplot(y=y, x=\"PCOS\", data=data)\n",
    "    plt.show()"
   ]
  },
  {
   "cell_type": "markdown",
   "id": "845eadb6",
   "metadata": {},
   "source": [
    "noticable difference in age, weight, height"
   ]
  },
  {
   "cell_type": "markdown",
   "id": "54b75cfd",
   "metadata": {},
   "source": [
    "# Logit Model Test"
   ]
  },
  {
   "cell_type": "code",
   "execution_count": 70,
   "id": "52d8d27d",
   "metadata": {},
   "outputs": [
    {
     "name": "stdout",
     "output_type": "stream",
     "text": [
      "Optimization terminated successfully.\n",
      "         Current function value: 0.543565\n",
      "         Iterations 6\n"
     ]
    },
    {
     "data": {
      "text/html": [
       "<table class=\"simpletable\">\n",
       "<caption>Logit Regression Results</caption>\n",
       "<tr>\n",
       "  <th>Dep. Variable:</th>         <td>PCOS</td>       <th>  No. Observations:  </th>  <td>   574</td>  \n",
       "</tr>\n",
       "<tr>\n",
       "  <th>Model:</th>                 <td>Logit</td>      <th>  Df Residuals:      </th>  <td>   566</td>  \n",
       "</tr>\n",
       "<tr>\n",
       "  <th>Method:</th>                 <td>MLE</td>       <th>  Df Model:          </th>  <td>     7</td>  \n",
       "</tr>\n",
       "<tr>\n",
       "  <th>Date:</th>            <td>Sun, 19 Feb 2023</td> <th>  Pseudo R-squ.:     </th>  <td>0.2158</td>  \n",
       "</tr>\n",
       "<tr>\n",
       "  <th>Time:</th>                <td>19:07:45</td>     <th>  Log-Likelihood:    </th> <td> -312.01</td> \n",
       "</tr>\n",
       "<tr>\n",
       "  <th>converged:</th>             <td>True</td>       <th>  LL-Null:           </th> <td> -397.87</td> \n",
       "</tr>\n",
       "<tr>\n",
       "  <th>Covariance Type:</th>     <td>nonrobust</td>    <th>  LLR p-value:       </th> <td>1.089e-33</td>\n",
       "</tr>\n",
       "</table>\n",
       "<table class=\"simpletable\">\n",
       "<tr>\n",
       "          <td></td>            <th>coef</th>     <th>std err</th>      <th>z</th>      <th>P>|z|</th>  <th>[0.025</th>    <th>0.975]</th>  \n",
       "</tr>\n",
       "<tr>\n",
       "  <th>Intercept</th>        <td>    3.5386</td> <td>    2.907</td> <td>    1.217</td> <td> 0.224</td> <td>   -2.159</td> <td>    9.237</td>\n",
       "</tr>\n",
       "<tr>\n",
       "  <th>pregnant</th>         <td>   -0.5179</td> <td>    0.211</td> <td>   -2.457</td> <td> 0.014</td> <td>   -0.931</td> <td>   -0.105</td>\n",
       "</tr>\n",
       "<tr>\n",
       "  <th>hair_growth</th>      <td>    1.8066</td> <td>    0.231</td> <td>    7.804</td> <td> 0.000</td> <td>    1.353</td> <td>    2.260</td>\n",
       "</tr>\n",
       "<tr>\n",
       "  <th>pimples</th>          <td>    0.8587</td> <td>    0.199</td> <td>    4.311</td> <td> 0.000</td> <td>    0.468</td> <td>    1.249</td>\n",
       "</tr>\n",
       "<tr>\n",
       "  <th>number_abortions</th> <td>   -0.3142</td> <td>    0.177</td> <td>   -1.775</td> <td> 0.076</td> <td>   -0.661</td> <td>    0.033</td>\n",
       "</tr>\n",
       "<tr>\n",
       "  <th>age</th>              <td>   -0.0990</td> <td>    0.020</td> <td>   -4.935</td> <td> 0.000</td> <td>   -0.138</td> <td>   -0.060</td>\n",
       "</tr>\n",
       "<tr>\n",
       "  <th>weight</th>           <td>    0.0337</td> <td>    0.010</td> <td>    3.327</td> <td> 0.001</td> <td>    0.014</td> <td>    0.054</td>\n",
       "</tr>\n",
       "<tr>\n",
       "  <th>height</th>           <td>   -0.0206</td> <td>    0.019</td> <td>   -1.088</td> <td> 0.277</td> <td>   -0.058</td> <td>    0.017</td>\n",
       "</tr>\n",
       "</table>"
      ],
      "text/plain": [
       "<class 'statsmodels.iolib.summary.Summary'>\n",
       "\"\"\"\n",
       "                           Logit Regression Results                           \n",
       "==============================================================================\n",
       "Dep. Variable:                   PCOS   No. Observations:                  574\n",
       "Model:                          Logit   Df Residuals:                      566\n",
       "Method:                           MLE   Df Model:                            7\n",
       "Date:                Sun, 19 Feb 2023   Pseudo R-squ.:                  0.2158\n",
       "Time:                        19:07:45   Log-Likelihood:                -312.01\n",
       "converged:                       True   LL-Null:                       -397.87\n",
       "Covariance Type:            nonrobust   LLR p-value:                 1.089e-33\n",
       "====================================================================================\n",
       "                       coef    std err          z      P>|z|      [0.025      0.975]\n",
       "------------------------------------------------------------------------------------\n",
       "Intercept            3.5386      2.907      1.217      0.224      -2.159       9.237\n",
       "pregnant            -0.5179      0.211     -2.457      0.014      -0.931      -0.105\n",
       "hair_growth          1.8066      0.231      7.804      0.000       1.353       2.260\n",
       "pimples              0.8587      0.199      4.311      0.000       0.468       1.249\n",
       "number_abortions    -0.3142      0.177     -1.775      0.076      -0.661       0.033\n",
       "age                 -0.0990      0.020     -4.935      0.000      -0.138      -0.060\n",
       "weight               0.0337      0.010      3.327      0.001       0.014       0.054\n",
       "height              -0.0206      0.019     -1.088      0.277      -0.058       0.017\n",
       "====================================================================================\n",
       "\"\"\""
      ]
     },
     "execution_count": 70,
     "metadata": {},
     "output_type": "execute_result"
    }
   ],
   "source": [
    "model1 = smf.logit(\"PCOS~pregnant+hair_growth+pimples+number_abortions+age+weight+height\", data = data).fit()\n",
    "model1.summary()"
   ]
  },
  {
   "cell_type": "code",
   "execution_count": 71,
   "id": "445bb6ea",
   "metadata": {},
   "outputs": [
    {
     "name": "stdout",
     "output_type": "stream",
     "text": [
      "Classification accuracy = 72.6%\n"
     ]
    },
    {
     "data": {
      "image/png": "[encoded data removed]",
      "text/plain": [
       "<Figure size 432x288 with 2 Axes>"
      ]
     },
     "metadata": {
      "needs_background": "light"
     },
     "output_type": "display_data"
    }
   ],
   "source": [
    "def confusion_matrix_train(model,cutoff=0.5):\n",
    "    # Confusion matrix\n",
    "    cm_df = pd.DataFrame(model.pred_table(threshold = cutoff))\n",
    "    #Formatting the confusion matrix\n",
    "    cm_df.columns = ['Predicted 0', 'Predicted 1'] \n",
    "    cm_df = cm_df.rename(index={0: 'Actual 0',1: 'Actual 1'})\n",
    "    cm = np.array(cm_df)\n",
    "    # Calculate the accuracy\n",
    "    accuracy = (cm[0,0]+cm[1,1])/cm.sum()\n",
    "    sns.heatmap(cm_df, annot=True, cmap='Blues', fmt='g')\n",
    "    plt.ylabel(\"Actual Values\")\n",
    "    plt.xlabel(\"Predicted Values\")\n",
    "    print(\"Classification accuracy = {:.1%}\".format(accuracy))\n",
    "    \n",
    "confusion_matrix_train(model1)"
   ]
  },
  {
   "cell_type": "code",
   "execution_count": null,
   "id": "f0229716",
   "metadata": {},
   "outputs": [],
   "source": []
  }
 ],
 "metadata": {
  "kernelspec": {
   "display_name": "Python 3 (ipykernel)",
   "language": "python",
   "name": "python3"
  },
  "language_info": {
   "codemirror_mode": {
    "name": "ipython",
    "version": 3
   },
   "file_extension": ".py",
   "mimetype": "text/x-python",
   "name": "python",
   "nbconvert_exporter": "python",
   "pygments_lexer": "ipython3",
   "version": "3.9.7"
  }
 },
 "nbformat": 4,
 "nbformat_minor": 5
}
