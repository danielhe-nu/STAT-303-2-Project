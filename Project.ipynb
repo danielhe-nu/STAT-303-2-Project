{
 "cells": [
  {
   "cell_type": "code",
   "execution_count": 66,
   "id": "674b928b",
   "metadata": {},
   "outputs": [],
   "source": [
    "import pandas as pd\n",
    "import numpy as np\n",
    "import statsmodels.formula.api as smf\n",
    "from statsmodels.formula.api import ols\n",
    "import seaborn as sns\n",
    "import matplotlib.pyplot as plt\n",
    "# In terminal: pip install -U imbalanced-learn\n",
    "from imblearn.over_sampling import SMOTE\n",
    "import warnings\n",
    "warnings.filterwarnings(\"ignore\")\n",
    "\n",
    "PCOS = pd.read_csv(\"PCOS.csv\")"
   ]
  },
  {
   "cell_type": "markdown",
   "id": "39cfb36a",
   "metadata": {},
   "source": [
    "# Data Cleaning"
   ]
  },
  {
   "cell_type": "markdown",
   "id": "964d3d9c",
   "metadata": {},
   "source": [
    "PCOS (Y/N): Age (C), Weight(C), pulse rate (C), RR (C), BMI (C), Years of marriage (C), Pregnant (B), Fast Food (B), Regular Exercise (B), No. of abortions (C), cycle length (c), waist/hip ratio (C), hair growth (B), pimples (B), blood group (cat)\n"
   ]
  },
  {
   "cell_type": "code",
   "execution_count": 49,
   "id": "c042c55e",
   "metadata": {},
   "outputs": [],
   "source": [
    "data = PCOS.loc[:, [\"PCOS (Y/N)\", \"Age (yrs)\", \"Weight (Kg)\", \"Height(Cm)\", \"Pulse rate(bpm)\", \"RR (breaths/min)\", \"Marraige Status (Yrs)\", 'Fast food (Y/N)', \"Pregnant(Y/N)\", \"No. of aborptions\", \"Hip(inch)\", \"Waist(inch)\", \"Reg.Exercise(Y/N)\", \"Cycle(R/I)\", \"hair growth(Y/N)\", \"Pimples(Y/N)\", \"Blood Group\"]]\n",
    "\n",
    "# Organizing data\n",
    "data[\"H/W Ratio\"] = data[\"Hip(inch)\"]/data[\"Waist(inch)\"]\n",
    "data[\"Height(M)\"] = data[\"Height(Cm)\"]/100\n",
    "data[\"BMI\"] = data[\"Weight (Kg)\"]/np.square(data[\"Height(M)\"])\n",
    "data = data.reindex(columns=[\"PCOS (Y/N)\", \"Age (yrs)\", \"Weight (Kg)\", \"Height(Cm)\", \"BMI\", \"Pulse rate(bpm)\", \"RR (breaths/min)\", \"Marraige Status (Yrs)\", 'Fast food (Y/N)', \"Pregnant(Y/N)\", \"No. of aborptions\", \"H/W Ratio\", \"Reg.Exercise(Y/N)\", \"Cycle(R/I)\", \"hair growth(Y/N)\", \"Pimples(Y/N)\", \"Blood Group\"])"
   ]
  },
  {
   "cell_type": "code",
   "execution_count": 50,
   "id": "602d069e",
   "metadata": {},
   "outputs": [],
   "source": [
    "# Adding in missing values with mean of other values\n",
    "missing_cols = data.columns[data.isna().any()].tolist()\n",
    "for x in missing_cols:\n",
    "    data[x] = data[x].fillna(data[x].mean())"
   ]
  },
  {
   "cell_type": "code",
   "execution_count": 51,
   "id": "8ea6850c",
   "metadata": {},
   "outputs": [
    {
     "data": {
      "text/html": [
       "<div>\n",
       "<style scoped>\n",
       "    .dataframe tbody tr th:only-of-type {\n",
       "        vertical-align: middle;\n",
       "    }\n",
       "\n",
       "    .dataframe tbody tr th {\n",
       "        vertical-align: top;\n",
       "    }\n",
       "\n",
       "    .dataframe thead th {\n",
       "        text-align: right;\n",
       "    }\n",
       "</style>\n",
       "<table border=\"1\" class=\"dataframe\">\n",
       "  <thead>\n",
       "    <tr style=\"text-align: right;\">\n",
       "      <th></th>\n",
       "      <th>PCOS (Y/N)</th>\n",
       "      <th>Age (yrs)</th>\n",
       "      <th>Weight (Kg)</th>\n",
       "      <th>Height(Cm)</th>\n",
       "      <th>BMI</th>\n",
       "      <th>Pulse rate(bpm)</th>\n",
       "      <th>RR (breaths/min)</th>\n",
       "      <th>Marraige Status (Yrs)</th>\n",
       "      <th>Fast food (Y/N)</th>\n",
       "      <th>Pregnant(Y/N)</th>\n",
       "      <th>No. of aborptions</th>\n",
       "      <th>H/W Ratio</th>\n",
       "      <th>Reg.Exercise(Y/N)</th>\n",
       "      <th>Cycle(R/I)</th>\n",
       "      <th>hair growth(Y/N)</th>\n",
       "      <th>Pimples(Y/N)</th>\n",
       "      <th>Blood Group</th>\n",
       "    </tr>\n",
       "  </thead>\n",
       "  <tbody>\n",
       "    <tr>\n",
       "      <th>0</th>\n",
       "      <td>0</td>\n",
       "      <td>28</td>\n",
       "      <td>44.6</td>\n",
       "      <td>152.0</td>\n",
       "      <td>19.304017</td>\n",
       "      <td>78</td>\n",
       "      <td>22</td>\n",
       "      <td>7.0</td>\n",
       "      <td>1.0</td>\n",
       "      <td>0</td>\n",
       "      <td>0</td>\n",
       "      <td>1.200000</td>\n",
       "      <td>0</td>\n",
       "      <td>2</td>\n",
       "      <td>0</td>\n",
       "      <td>0</td>\n",
       "      <td>15</td>\n",
       "    </tr>\n",
       "    <tr>\n",
       "      <th>1</th>\n",
       "      <td>0</td>\n",
       "      <td>36</td>\n",
       "      <td>65.0</td>\n",
       "      <td>161.5</td>\n",
       "      <td>24.921163</td>\n",
       "      <td>74</td>\n",
       "      <td>20</td>\n",
       "      <td>11.0</td>\n",
       "      <td>0.0</td>\n",
       "      <td>1</td>\n",
       "      <td>0</td>\n",
       "      <td>1.187500</td>\n",
       "      <td>0</td>\n",
       "      <td>2</td>\n",
       "      <td>0</td>\n",
       "      <td>0</td>\n",
       "      <td>15</td>\n",
       "    </tr>\n",
       "    <tr>\n",
       "      <th>2</th>\n",
       "      <td>1</td>\n",
       "      <td>33</td>\n",
       "      <td>68.8</td>\n",
       "      <td>165.0</td>\n",
       "      <td>25.270891</td>\n",
       "      <td>72</td>\n",
       "      <td>18</td>\n",
       "      <td>10.0</td>\n",
       "      <td>1.0</td>\n",
       "      <td>1</td>\n",
       "      <td>0</td>\n",
       "      <td>1.111111</td>\n",
       "      <td>0</td>\n",
       "      <td>2</td>\n",
       "      <td>0</td>\n",
       "      <td>1</td>\n",
       "      <td>11</td>\n",
       "    </tr>\n",
       "    <tr>\n",
       "      <th>3</th>\n",
       "      <td>0</td>\n",
       "      <td>37</td>\n",
       "      <td>65.0</td>\n",
       "      <td>148.0</td>\n",
       "      <td>29.674945</td>\n",
       "      <td>72</td>\n",
       "      <td>20</td>\n",
       "      <td>4.0</td>\n",
       "      <td>0.0</td>\n",
       "      <td>0</td>\n",
       "      <td>0</td>\n",
       "      <td>1.166667</td>\n",
       "      <td>0</td>\n",
       "      <td>2</td>\n",
       "      <td>0</td>\n",
       "      <td>0</td>\n",
       "      <td>13</td>\n",
       "    </tr>\n",
       "    <tr>\n",
       "      <th>4</th>\n",
       "      <td>0</td>\n",
       "      <td>25</td>\n",
       "      <td>52.0</td>\n",
       "      <td>161.0</td>\n",
       "      <td>20.060954</td>\n",
       "      <td>72</td>\n",
       "      <td>18</td>\n",
       "      <td>1.0</td>\n",
       "      <td>0.0</td>\n",
       "      <td>1</td>\n",
       "      <td>0</td>\n",
       "      <td>1.233333</td>\n",
       "      <td>0</td>\n",
       "      <td>2</td>\n",
       "      <td>0</td>\n",
       "      <td>0</td>\n",
       "      <td>11</td>\n",
       "    </tr>\n",
       "  </tbody>\n",
       "</table>\n",
       "</div>"
      ],
      "text/plain": [
       "   PCOS (Y/N)  Age (yrs)  Weight (Kg)  Height(Cm)        BMI  Pulse rate(bpm)  \\\n",
       "0           0         28         44.6       152.0  19.304017               78   \n",
       "1           0         36         65.0       161.5  24.921163               74   \n",
       "2           1         33         68.8       165.0  25.270891               72   \n",
       "3           0         37         65.0       148.0  29.674945               72   \n",
       "4           0         25         52.0       161.0  20.060954               72   \n",
       "\n",
       "   RR (breaths/min)  Marraige Status (Yrs)  Fast food (Y/N)  Pregnant(Y/N)  \\\n",
       "0                22                    7.0              1.0              0   \n",
       "1                20                   11.0              0.0              1   \n",
       "2                18                   10.0              1.0              1   \n",
       "3                20                    4.0              0.0              0   \n",
       "4                18                    1.0              0.0              1   \n",
       "\n",
       "   No. of aborptions  H/W Ratio  Reg.Exercise(Y/N)  Cycle(R/I)  \\\n",
       "0                  0   1.200000                  0           2   \n",
       "1                  0   1.187500                  0           2   \n",
       "2                  0   1.111111                  0           2   \n",
       "3                  0   1.166667                  0           2   \n",
       "4                  0   1.233333                  0           2   \n",
       "\n",
       "   hair growth(Y/N)  Pimples(Y/N)  Blood Group  \n",
       "0                 0             0           15  \n",
       "1                 0             0           15  \n",
       "2                 0             1           11  \n",
       "3                 0             0           13  \n",
       "4                 0             0           11  "
      ]
     },
     "execution_count": 51,
     "metadata": {},
     "output_type": "execute_result"
    }
   ],
   "source": [
    "data.head()"
   ]
  },
  {
   "cell_type": "markdown",
   "id": "c94069d2",
   "metadata": {},
   "source": [
    "# Use SMOTE to generate more values"
   ]
  },
  {
   "cell_type": "code",
   "execution_count": 53,
   "id": "2ef86936",
   "metadata": {},
   "outputs": [
    {
     "data": {
      "text/plain": [
       "0    364\n",
       "1    177\n",
       "Name: PCOS (Y/N), dtype: int64"
      ]
     },
     "execution_count": 53,
     "metadata": {},
     "output_type": "execute_result"
    }
   ],
   "source": [
    "data[\"PCOS (Y/N)\"].value_counts()"
   ]
  },
  {
   "cell_type": "code",
   "execution_count": 83,
   "id": "d6b7c35f",
   "metadata": {},
   "outputs": [],
   "source": [
    "X=data.iloc[:,1:]\n",
    "X.isnull().sum()\n",
    "y=data.iloc[:,0]\n",
    "\n",
    "from sklearn.model_selection import train_test_split\n",
    "\n",
    "X_train, X_test, y_train, y_test = train_test_split(X, y, test_size = 0.20, random_state = 20)"
   ]
  },
  {
   "cell_type": "code",
   "execution_count": 87,
   "id": "86e2e550",
   "metadata": {},
   "outputs": [
    {
     "name": "stdout",
     "output_type": "stream",
     "text": [
      "Before OverSampling, counts of label '1': 142\n",
      "Before OverSampling, counts of label '0': 290 \n",
      "\n",
      "After OverSampling, the shape of train_X: (580, 16)\n",
      "After OverSampling, the shape of train_y: (580,) \n",
      "\n",
      "After OverSampling, counts of label '1': 290\n",
      "After OverSampling, counts of label '0': 290\n"
     ]
    }
   ],
   "source": [
    "sm = SMOTE(random_state = 2)\n",
    "X_train_res, y_train_res = sm.fit_resample(X_train, y_train.ravel())\n",
    "print(\"Before OverSampling, counts of label '1': {}\".format(sum(y_train == 1)))\n",
    "print(\"Before OverSampling, counts of label '0': {} \\n\".format(sum(y_train == 0)))\n",
    "\n",
    "print('After OverSampling, the shape of train_X: {}'.format(X_train_res.shape))\n",
    "print('After OverSampling, the shape of train_y: {} \\n'.format(y_train_res.shape))\n",
    "  \n",
    "print(\"After OverSampling, counts of label '1': {}\".format(sum(y_train_res == 1)))\n",
    "print(\"After OverSampling, counts of label '0': {}\".format(sum(y_train_res == 0)))"
   ]
  },
  {
   "cell_type": "code",
   "execution_count": 94,
   "id": "802fb211",
   "metadata": {},
   "outputs": [],
   "source": [
    "y = pd.DataFrame(y_train_res, columns=[\"PCOS\"])"
   ]
  },
  {
   "cell_type": "code",
   "execution_count": 99,
   "id": "e5fe30a9",
   "metadata": {},
   "outputs": [],
   "source": [
    "data = pd.concat([X_train_res, y], axis = 1) \n",
    "data = data.reindex(columns=[\"PCOS (Y/N)\", \"Age (yrs)\", \"Weight (Kg)\", \"Height(Cm)\", \"BMI\", \"Pulse rate(bpm)\", \"RR (breaths/min)\", \"Marraige Status (Yrs)\", 'Fast food (Y/N)', \"Pregnant(Y/N)\", \"No. of aborptions\", \"H/W Ratio\", \"Reg.Exercise(Y/N)\", \"Cycle(R/I)\", \"hair growth(Y/N)\", \"Pimples(Y/N)\", \"Blood Group\"])"
   ]
  },
  {
   "cell_type": "code",
   "execution_count": 101,
   "id": "0ac4829c",
   "metadata": {},
   "outputs": [
    {
     "data": {
      "text/plain": [
       "(580, 17)"
      ]
     },
     "execution_count": 101,
     "metadata": {},
     "output_type": "execute_result"
    }
   ],
   "source": [
    "data.shape"
   ]
  },
  {
   "cell_type": "code",
   "execution_count": null,
   "id": "25bb4325",
   "metadata": {},
   "outputs": [],
   "source": []
  }
 ],
 "metadata": {
  "kernelspec": {
   "display_name": "Python 3 (ipykernel)",
   "language": "python",
   "name": "python3"
  },
  "language_info": {
   "codemirror_mode": {
    "name": "ipython",
    "version": 3
   },
   "file_extension": ".py",
   "mimetype": "text/x-python",
   "name": "python",
   "nbconvert_exporter": "python",
   "pygments_lexer": "ipython3",
   "version": "3.9.12"
  }
 },
 "nbformat": 4,
 "nbformat_minor": 5
}
