{
 "cells": [
  {
   "cell_type": "code",
   "execution_count": 27,
   "id": "674b928b",
   "metadata": {},
   "outputs": [],
   "source": [
    "import pandas as pd\n",
    "import numpy as np\n",
    "import statsmodels.formula.api as smf\n",
    "from statsmodels.formula.api import ols\n",
    "import seaborn as sns\n",
    "import matplotlib.pyplot as plt\n",
    "# In terminal: pip install -U imbalanced-learn\n",
    "from imblearn.over_sampling import SMOTE\n",
    "import warnings\n",
    "warnings.filterwarnings(\"ignore\")\n",
    "\n",
    "PCOS = pd.read_csv(\"PCOS.csv\")"
   ]
  },
  {
   "cell_type": "markdown",
   "id": "39cfb36a",
   "metadata": {},
   "source": [
    "# Data Cleaning"
   ]
  },
  {
   "cell_type": "markdown",
   "id": "964d3d9c",
   "metadata": {},
   "source": [
    "PCOS (Y/N): Age (C), Weight(C), pulse rate (C), RR (C), BMI (C), Years of marriage (C), Pregnant (B), Fast Food (B), Regular Exercise (B), No. of abortions (C), cycle length (c), waist/hip ratio (C), hair growth (B), pimples (B), blood group (cat)\n"
   ]
  },
  {
   "cell_type": "code",
   "execution_count": 28,
   "id": "c042c55e",
   "metadata": {},
   "outputs": [],
   "source": [
    "data = PCOS.loc[:, [\"PCOS (Y/N)\", \"Age (yrs)\", \"Weight (Kg)\", \"Height(Cm)\", \"Pulse rate(bpm)\", \"RR (breaths/min)\", \"Marraige Status (Yrs)\", 'Fast food (Y/N)', \"Pregnant(Y/N)\", \"No. of aborptions\", \"Hip(inch)\", \"Waist(inch)\", \"Reg.Exercise(Y/N)\", \"Cycle(R/I)\", \"hair growth(Y/N)\", \"Pimples(Y/N)\", \"Blood Group\"]]\n",
    "\n",
    "# Organizing data\n",
    "data[\"H/W Ratio\"] = data[\"Hip(inch)\"]/data[\"Waist(inch)\"]\n",
    "data[\"Height(M)\"] = data[\"Height(Cm)\"]/100\n",
    "data[\"BMI\"] = data[\"Weight (Kg)\"]/np.square(data[\"Height(M)\"])\n",
    "data = data.reindex(columns=[\"PCOS (Y/N)\", \"Age (yrs)\", \"Weight (Kg)\", \"Height(Cm)\", \"BMI\", \"Pulse rate(bpm)\", \"RR (breaths/min)\", \"Marraige Status (Yrs)\", 'Fast food (Y/N)', \"Pregnant(Y/N)\", \"No. of aborptions\", \"H/W Ratio\", \"Reg.Exercise(Y/N)\", \"Cycle(R/I)\", \"hair growth(Y/N)\", \"Pimples(Y/N)\", \"Blood Group\"])"
   ]
  },
  {
   "cell_type": "code",
   "execution_count": 29,
   "id": "602d069e",
   "metadata": {},
   "outputs": [],
   "source": [
    "# Adding in missing values with mean of other values\n",
    "missing_cols = data.columns[data.isna().any()].tolist()\n",
    "for x in missing_cols:\n",
    "    data[x] = data[x].fillna(data[x].mean())"
   ]
  },
  {
   "cell_type": "code",
   "execution_count": 30,
   "id": "8ea6850c",
   "metadata": {},
   "outputs": [
    {
     "data": {
      "text/html": [
       "<div>\n",
       "<style scoped>\n",
       "    .dataframe tbody tr th:only-of-type {\n",
       "        vertical-align: middle;\n",
       "    }\n",
       "\n",
       "    .dataframe tbody tr th {\n",
       "        vertical-align: top;\n",
       "    }\n",
       "\n",
       "    .dataframe thead th {\n",
       "        text-align: right;\n",
       "    }\n",
       "</style>\n",
       "<table border=\"1\" class=\"dataframe\">\n",
       "  <thead>\n",
       "    <tr style=\"text-align: right;\">\n",
       "      <th></th>\n",
       "      <th>PCOS (Y/N)</th>\n",
       "      <th>Age (yrs)</th>\n",
       "      <th>Weight (Kg)</th>\n",
       "      <th>Height(Cm)</th>\n",
       "      <th>BMI</th>\n",
       "      <th>Pulse rate(bpm)</th>\n",
       "      <th>RR (breaths/min)</th>\n",
       "      <th>Marraige Status (Yrs)</th>\n",
       "      <th>Fast food (Y/N)</th>\n",
       "      <th>Pregnant(Y/N)</th>\n",
       "      <th>No. of aborptions</th>\n",
       "      <th>H/W Ratio</th>\n",
       "      <th>Reg.Exercise(Y/N)</th>\n",
       "      <th>Cycle(R/I)</th>\n",
       "      <th>hair growth(Y/N)</th>\n",
       "      <th>Pimples(Y/N)</th>\n",
       "      <th>Blood Group</th>\n",
       "    </tr>\n",
       "  </thead>\n",
       "  <tbody>\n",
       "    <tr>\n",
       "      <th>0</th>\n",
       "      <td>0</td>\n",
       "      <td>28</td>\n",
       "      <td>44.6</td>\n",
       "      <td>152.0</td>\n",
       "      <td>19.304017</td>\n",
       "      <td>78</td>\n",
       "      <td>22</td>\n",
       "      <td>7.0</td>\n",
       "      <td>1.0</td>\n",
       "      <td>0</td>\n",
       "      <td>0</td>\n",
       "      <td>1.200000</td>\n",
       "      <td>0</td>\n",
       "      <td>2</td>\n",
       "      <td>0</td>\n",
       "      <td>0</td>\n",
       "      <td>15</td>\n",
       "    </tr>\n",
       "    <tr>\n",
       "      <th>1</th>\n",
       "      <td>0</td>\n",
       "      <td>36</td>\n",
       "      <td>65.0</td>\n",
       "      <td>161.5</td>\n",
       "      <td>24.921163</td>\n",
       "      <td>74</td>\n",
       "      <td>20</td>\n",
       "      <td>11.0</td>\n",
       "      <td>0.0</td>\n",
       "      <td>1</td>\n",
       "      <td>0</td>\n",
       "      <td>1.187500</td>\n",
       "      <td>0</td>\n",
       "      <td>2</td>\n",
       "      <td>0</td>\n",
       "      <td>0</td>\n",
       "      <td>15</td>\n",
       "    </tr>\n",
       "    <tr>\n",
       "      <th>2</th>\n",
       "      <td>1</td>\n",
       "      <td>33</td>\n",
       "      <td>68.8</td>\n",
       "      <td>165.0</td>\n",
       "      <td>25.270891</td>\n",
       "      <td>72</td>\n",
       "      <td>18</td>\n",
       "      <td>10.0</td>\n",
       "      <td>1.0</td>\n",
       "      <td>1</td>\n",
       "      <td>0</td>\n",
       "      <td>1.111111</td>\n",
       "      <td>0</td>\n",
       "      <td>2</td>\n",
       "      <td>0</td>\n",
       "      <td>1</td>\n",
       "      <td>11</td>\n",
       "    </tr>\n",
       "    <tr>\n",
       "      <th>3</th>\n",
       "      <td>0</td>\n",
       "      <td>37</td>\n",
       "      <td>65.0</td>\n",
       "      <td>148.0</td>\n",
       "      <td>29.674945</td>\n",
       "      <td>72</td>\n",
       "      <td>20</td>\n",
       "      <td>4.0</td>\n",
       "      <td>0.0</td>\n",
       "      <td>0</td>\n",
       "      <td>0</td>\n",
       "      <td>1.166667</td>\n",
       "      <td>0</td>\n",
       "      <td>2</td>\n",
       "      <td>0</td>\n",
       "      <td>0</td>\n",
       "      <td>13</td>\n",
       "    </tr>\n",
       "    <tr>\n",
       "      <th>4</th>\n",
       "      <td>0</td>\n",
       "      <td>25</td>\n",
       "      <td>52.0</td>\n",
       "      <td>161.0</td>\n",
       "      <td>20.060954</td>\n",
       "      <td>72</td>\n",
       "      <td>18</td>\n",
       "      <td>1.0</td>\n",
       "      <td>0.0</td>\n",
       "      <td>1</td>\n",
       "      <td>0</td>\n",
       "      <td>1.233333</td>\n",
       "      <td>0</td>\n",
       "      <td>2</td>\n",
       "      <td>0</td>\n",
       "      <td>0</td>\n",
       "      <td>11</td>\n",
       "    </tr>\n",
       "  </tbody>\n",
       "</table>\n",
       "</div>"
      ],
      "text/plain": [
       "   PCOS (Y/N)  Age (yrs)  Weight (Kg)  Height(Cm)        BMI  Pulse rate(bpm)  \\\n",
       "0           0         28         44.6       152.0  19.304017               78   \n",
       "1           0         36         65.0       161.5  24.921163               74   \n",
       "2           1         33         68.8       165.0  25.270891               72   \n",
       "3           0         37         65.0       148.0  29.674945               72   \n",
       "4           0         25         52.0       161.0  20.060954               72   \n",
       "\n",
       "   RR (breaths/min)  Marraige Status (Yrs)  Fast food (Y/N)  Pregnant(Y/N)  \\\n",
       "0                22                    7.0              1.0              0   \n",
       "1                20                   11.0              0.0              1   \n",
       "2                18                   10.0              1.0              1   \n",
       "3                20                    4.0              0.0              0   \n",
       "4                18                    1.0              0.0              1   \n",
       "\n",
       "   No. of aborptions  H/W Ratio  Reg.Exercise(Y/N)  Cycle(R/I)  \\\n",
       "0                  0   1.200000                  0           2   \n",
       "1                  0   1.187500                  0           2   \n",
       "2                  0   1.111111                  0           2   \n",
       "3                  0   1.166667                  0           2   \n",
       "4                  0   1.233333                  0           2   \n",
       "\n",
       "   hair growth(Y/N)  Pimples(Y/N)  Blood Group  \n",
       "0                 0             0           15  \n",
       "1                 0             0           15  \n",
       "2                 0             1           11  \n",
       "3                 0             0           13  \n",
       "4                 0             0           11  "
      ]
     },
     "execution_count": 30,
     "metadata": {},
     "output_type": "execute_result"
    }
   ],
   "source": [
    "data.head()"
   ]
  },
  {
   "cell_type": "markdown",
   "id": "c94069d2",
   "metadata": {},
   "source": [
    "# Use SMOTE to generate more values"
   ]
  },
  {
   "cell_type": "code",
   "execution_count": 31,
   "id": "2ef86936",
   "metadata": {},
   "outputs": [
    {
     "data": {
      "text/plain": [
       "0    364\n",
       "1    177\n",
       "Name: PCOS (Y/N), dtype: int64"
      ]
     },
     "execution_count": 31,
     "metadata": {},
     "output_type": "execute_result"
    }
   ],
   "source": [
    "data[\"PCOS (Y/N)\"].value_counts()"
   ]
  },
  {
   "cell_type": "code",
   "execution_count": 32,
   "id": "d6b7c35f",
   "metadata": {},
   "outputs": [],
   "source": [
    "X=data.iloc[:,1:]\n",
    "X.isnull().sum()\n",
    "y=data.iloc[:,0]\n",
    "\n",
    "from sklearn.model_selection import train_test_split\n",
    "\n",
    "X_train, X_test, y_train, y_test = train_test_split(X, y, test_size = 0.20, random_state = 20)"
   ]
  },
  {
   "cell_type": "code",
   "execution_count": 33,
   "id": "86e2e550",
   "metadata": {},
   "outputs": [
    {
     "name": "stdout",
     "output_type": "stream",
     "text": [
      "Before OverSampling, counts of label '1': 142\n",
      "Before OverSampling, counts of label '0': 290 \n",
      "\n",
      "After OverSampling, the shape of train_X: (580, 16)\n",
      "After OverSampling, the shape of train_y: (580,) \n",
      "\n",
      "After OverSampling, counts of label '1': 290\n",
      "After OverSampling, counts of label '0': 290\n"
     ]
    }
   ],
   "source": [
    "sm = SMOTE(random_state = 2)\n",
    "X_train_res, y_train_res = sm.fit_resample(X_train, y_train.ravel())\n",
    "print(\"Before OverSampling, counts of label '1': {}\".format(sum(y_train == 1)))\n",
    "print(\"Before OverSampling, counts of label '0': {} \\n\".format(sum(y_train == 0)))\n",
    "\n",
    "print('After OverSampling, the shape of train_X: {}'.format(X_train_res.shape))\n",
    "print('After OverSampling, the shape of train_y: {} \\n'.format(y_train_res.shape))\n",
    "  \n",
    "print(\"After OverSampling, counts of label '1': {}\".format(sum(y_train_res == 1)))\n",
    "print(\"After OverSampling, counts of label '0': {}\".format(sum(y_train_res == 0)))"
   ]
  },
  {
   "cell_type": "code",
   "execution_count": 34,
   "id": "802fb211",
   "metadata": {},
   "outputs": [],
   "source": [
    "y = pd.DataFrame(y_train_res, columns=[\"PCOS (Y/N)\"])"
   ]
  },
  {
   "cell_type": "code",
   "execution_count": 37,
   "id": "e5fe30a9",
   "metadata": {},
   "outputs": [
    {
     "data": {
      "text/html": [
       "<div>\n",
       "<style scoped>\n",
       "    .dataframe tbody tr th:only-of-type {\n",
       "        vertical-align: middle;\n",
       "    }\n",
       "\n",
       "    .dataframe tbody tr th {\n",
       "        vertical-align: top;\n",
       "    }\n",
       "\n",
       "    .dataframe thead th {\n",
       "        text-align: right;\n",
       "    }\n",
       "</style>\n",
       "<table border=\"1\" class=\"dataframe\">\n",
       "  <thead>\n",
       "    <tr style=\"text-align: right;\">\n",
       "      <th></th>\n",
       "      <th>PCOS</th>\n",
       "      <th>age</th>\n",
       "      <th>weight</th>\n",
       "      <th>height</th>\n",
       "      <th>BMI</th>\n",
       "      <th>pulse_rate</th>\n",
       "      <th>RR</th>\n",
       "      <th>marriage_years</th>\n",
       "      <th>fast_food</th>\n",
       "      <th>pregnant</th>\n",
       "      <th>number_abortions</th>\n",
       "      <th>h/w_ratio</th>\n",
       "      <th>regular_excercise</th>\n",
       "      <th>cycle</th>\n",
       "      <th>hair_growth</th>\n",
       "      <th>pimples</th>\n",
       "      <th>Blood Group</th>\n",
       "    </tr>\n",
       "  </thead>\n",
       "  <tbody>\n",
       "    <tr>\n",
       "      <th>0</th>\n",
       "      <td>0</td>\n",
       "      <td>33</td>\n",
       "      <td>58.5</td>\n",
       "      <td>159.000</td>\n",
       "      <td>23.139907</td>\n",
       "      <td>72</td>\n",
       "      <td>20</td>\n",
       "      <td>13.0</td>\n",
       "      <td>0.0</td>\n",
       "      <td>1</td>\n",
       "      <td>2</td>\n",
       "      <td>1.157895</td>\n",
       "      <td>0</td>\n",
       "      <td>2</td>\n",
       "      <td>0</td>\n",
       "      <td>0</td>\n",
       "      <td>13</td>\n",
       "    </tr>\n",
       "    <tr>\n",
       "      <th>1</th>\n",
       "      <td>1</td>\n",
       "      <td>27</td>\n",
       "      <td>50.0</td>\n",
       "      <td>168.000</td>\n",
       "      <td>17.715420</td>\n",
       "      <td>72</td>\n",
       "      <td>18</td>\n",
       "      <td>7.0</td>\n",
       "      <td>0.0</td>\n",
       "      <td>0</td>\n",
       "      <td>0</td>\n",
       "      <td>1.040000</td>\n",
       "      <td>0</td>\n",
       "      <td>4</td>\n",
       "      <td>1</td>\n",
       "      <td>1</td>\n",
       "      <td>13</td>\n",
       "    </tr>\n",
       "    <tr>\n",
       "      <th>2</th>\n",
       "      <td>0</td>\n",
       "      <td>38</td>\n",
       "      <td>70.0</td>\n",
       "      <td>164.592</td>\n",
       "      <td>25.839291</td>\n",
       "      <td>72</td>\n",
       "      <td>18</td>\n",
       "      <td>8.0</td>\n",
       "      <td>0.0</td>\n",
       "      <td>0</td>\n",
       "      <td>0</td>\n",
       "      <td>1.095238</td>\n",
       "      <td>0</td>\n",
       "      <td>2</td>\n",
       "      <td>1</td>\n",
       "      <td>1</td>\n",
       "      <td>16</td>\n",
       "    </tr>\n",
       "    <tr>\n",
       "      <th>3</th>\n",
       "      <td>0</td>\n",
       "      <td>34</td>\n",
       "      <td>60.0</td>\n",
       "      <td>156.000</td>\n",
       "      <td>24.654832</td>\n",
       "      <td>74</td>\n",
       "      <td>20</td>\n",
       "      <td>7.0</td>\n",
       "      <td>0.0</td>\n",
       "      <td>0</td>\n",
       "      <td>0</td>\n",
       "      <td>1.218750</td>\n",
       "      <td>0</td>\n",
       "      <td>2</td>\n",
       "      <td>0</td>\n",
       "      <td>0</td>\n",
       "      <td>14</td>\n",
       "    </tr>\n",
       "    <tr>\n",
       "      <th>4</th>\n",
       "      <td>1</td>\n",
       "      <td>31</td>\n",
       "      <td>50.0</td>\n",
       "      <td>158.000</td>\n",
       "      <td>20.028842</td>\n",
       "      <td>74</td>\n",
       "      <td>20</td>\n",
       "      <td>11.0</td>\n",
       "      <td>1.0</td>\n",
       "      <td>0</td>\n",
       "      <td>0</td>\n",
       "      <td>1.200000</td>\n",
       "      <td>1</td>\n",
       "      <td>2</td>\n",
       "      <td>0</td>\n",
       "      <td>1</td>\n",
       "      <td>11</td>\n",
       "    </tr>\n",
       "  </tbody>\n",
       "</table>\n",
       "</div>"
      ],
      "text/plain": [
       "   PCOS  age  weight   height        BMI  pulse_rate  RR  marriage_years  \\\n",
       "0     0   33    58.5  159.000  23.139907          72  20            13.0   \n",
       "1     1   27    50.0  168.000  17.715420          72  18             7.0   \n",
       "2     0   38    70.0  164.592  25.839291          72  18             8.0   \n",
       "3     0   34    60.0  156.000  24.654832          74  20             7.0   \n",
       "4     1   31    50.0  158.000  20.028842          74  20            11.0   \n",
       "\n",
       "   fast_food  pregnant  number_abortions  h/w_ratio  regular_excercise  cycle  \\\n",
       "0        0.0         1                 2   1.157895                  0      2   \n",
       "1        0.0         0                 0   1.040000                  0      4   \n",
       "2        0.0         0                 0   1.095238                  0      2   \n",
       "3        0.0         0                 0   1.218750                  0      2   \n",
       "4        1.0         0                 0   1.200000                  1      2   \n",
       "\n",
       "   hair_growth  pimples  Blood Group  \n",
       "0            0        0           13  \n",
       "1            1        1           13  \n",
       "2            1        1           16  \n",
       "3            0        0           14  \n",
       "4            0        1           11  "
      ]
     },
     "execution_count": 37,
     "metadata": {},
     "output_type": "execute_result"
    }
   ],
   "source": [
    "data = pd.concat([X_train_res, y], axis = 1) \n",
    "data = data.reindex(columns=[\"PCOS (Y/N)\", \"Age (yrs)\", \"Weight (Kg)\", \"Height(Cm)\", \"BMI\", \"Pulse rate(bpm)\", \"RR (breaths/min)\", \"Marraige Status (Yrs)\", 'Fast food (Y/N)', \"Pregnant(Y/N)\", \"No. of aborptions\", \"H/W Ratio\", \"Reg.Exercise(Y/N)\", \"Cycle(R/I)\", \"hair growth(Y/N)\", \"Pimples(Y/N)\", \"Blood Group\"])\n",
    "data = data.rename(columns={\"PCOS (Y/N)\":\"PCOS\", \"Age (yrs)\":\"age\", \"Weight (Kg)\": \"weight\", \"Height(Cm)\": \"height\", \"Pulse rate(bpm)\": \"pulse_rate\", \"RR (breaths/min)\": \"RR\", \"Marraige Status (Yrs)\": \"marriage_years\", 'Fast food (Y/N)': \"fast_food\", \"Pregnant(Y/N)\": \"pregnant\", \"No. of aborptions\": \"number_abortions\", \"H/W Ratio\": \"h/w_ratio\", \"Reg.Exercise(Y/N)\": \"regular_excercise\", \"Cycle(R/I)\": \"cycle\", \"hair growth(Y/N)\": \"hair_growth\", \"Pimples(Y/N)\": \"pimples\"})\n",
    "data.head()\n"
   ]
  },
  {
   "cell_type": "code",
   "execution_count": 39,
   "id": "0ac4829c",
   "metadata": {},
   "outputs": [
    {
     "data": {
      "text/plain": [
       "(580, 18)"
      ]
     },
     "execution_count": 39,
     "metadata": {},
     "output_type": "execute_result"
    }
   ],
   "source": [
    "data.shape"
   ]
  },
  {
   "cell_type": "markdown",
   "id": "1a60caca",
   "metadata": {},
   "source": [
    "### Changing Blood Group into categories"
   ]
  },
  {
   "cell_type": "code",
   "execution_count": 40,
   "id": "16389a17",
   "metadata": {},
   "outputs": [
    {
     "data": {
      "text/html": [
       "<div>\n",
       "<style scoped>\n",
       "    .dataframe tbody tr th:only-of-type {\n",
       "        vertical-align: middle;\n",
       "    }\n",
       "\n",
       "    .dataframe tbody tr th {\n",
       "        vertical-align: top;\n",
       "    }\n",
       "\n",
       "    .dataframe thead th {\n",
       "        text-align: right;\n",
       "    }\n",
       "</style>\n",
       "<table border=\"1\" class=\"dataframe\">\n",
       "  <thead>\n",
       "    <tr style=\"text-align: right;\">\n",
       "      <th></th>\n",
       "      <th>PCOS</th>\n",
       "      <th>age</th>\n",
       "      <th>weight</th>\n",
       "      <th>height</th>\n",
       "      <th>BMI</th>\n",
       "      <th>pulse_rate</th>\n",
       "      <th>RR</th>\n",
       "      <th>marriage_years</th>\n",
       "      <th>fast_food</th>\n",
       "      <th>pregnant</th>\n",
       "      <th>number_abortions</th>\n",
       "      <th>h/w_ratio</th>\n",
       "      <th>regular_excercise</th>\n",
       "      <th>cycle</th>\n",
       "      <th>hair_growth</th>\n",
       "      <th>pimples</th>\n",
       "      <th>Blood Group</th>\n",
       "      <th>blood_group_cat</th>\n",
       "    </tr>\n",
       "  </thead>\n",
       "  <tbody>\n",
       "    <tr>\n",
       "      <th>0</th>\n",
       "      <td>0</td>\n",
       "      <td>33</td>\n",
       "      <td>58.5</td>\n",
       "      <td>159.000</td>\n",
       "      <td>23.139907</td>\n",
       "      <td>72</td>\n",
       "      <td>20</td>\n",
       "      <td>13.0</td>\n",
       "      <td>0.0</td>\n",
       "      <td>1</td>\n",
       "      <td>2</td>\n",
       "      <td>1.157895</td>\n",
       "      <td>0</td>\n",
       "      <td>2</td>\n",
       "      <td>0</td>\n",
       "      <td>0</td>\n",
       "      <td>13</td>\n",
       "      <td>B+</td>\n",
       "    </tr>\n",
       "    <tr>\n",
       "      <th>1</th>\n",
       "      <td>1</td>\n",
       "      <td>27</td>\n",
       "      <td>50.0</td>\n",
       "      <td>168.000</td>\n",
       "      <td>17.715420</td>\n",
       "      <td>72</td>\n",
       "      <td>18</td>\n",
       "      <td>7.0</td>\n",
       "      <td>0.0</td>\n",
       "      <td>0</td>\n",
       "      <td>0</td>\n",
       "      <td>1.040000</td>\n",
       "      <td>0</td>\n",
       "      <td>4</td>\n",
       "      <td>1</td>\n",
       "      <td>1</td>\n",
       "      <td>13</td>\n",
       "      <td>B+</td>\n",
       "    </tr>\n",
       "    <tr>\n",
       "      <th>2</th>\n",
       "      <td>0</td>\n",
       "      <td>38</td>\n",
       "      <td>70.0</td>\n",
       "      <td>164.592</td>\n",
       "      <td>25.839291</td>\n",
       "      <td>72</td>\n",
       "      <td>18</td>\n",
       "      <td>8.0</td>\n",
       "      <td>0.0</td>\n",
       "      <td>0</td>\n",
       "      <td>0</td>\n",
       "      <td>1.095238</td>\n",
       "      <td>0</td>\n",
       "      <td>2</td>\n",
       "      <td>1</td>\n",
       "      <td>1</td>\n",
       "      <td>16</td>\n",
       "      <td>O-</td>\n",
       "    </tr>\n",
       "    <tr>\n",
       "      <th>3</th>\n",
       "      <td>0</td>\n",
       "      <td>34</td>\n",
       "      <td>60.0</td>\n",
       "      <td>156.000</td>\n",
       "      <td>24.654832</td>\n",
       "      <td>74</td>\n",
       "      <td>20</td>\n",
       "      <td>7.0</td>\n",
       "      <td>0.0</td>\n",
       "      <td>0</td>\n",
       "      <td>0</td>\n",
       "      <td>1.218750</td>\n",
       "      <td>0</td>\n",
       "      <td>2</td>\n",
       "      <td>0</td>\n",
       "      <td>0</td>\n",
       "      <td>14</td>\n",
       "      <td>B-</td>\n",
       "    </tr>\n",
       "    <tr>\n",
       "      <th>4</th>\n",
       "      <td>1</td>\n",
       "      <td>31</td>\n",
       "      <td>50.0</td>\n",
       "      <td>158.000</td>\n",
       "      <td>20.028842</td>\n",
       "      <td>74</td>\n",
       "      <td>20</td>\n",
       "      <td>11.0</td>\n",
       "      <td>1.0</td>\n",
       "      <td>0</td>\n",
       "      <td>0</td>\n",
       "      <td>1.200000</td>\n",
       "      <td>1</td>\n",
       "      <td>2</td>\n",
       "      <td>0</td>\n",
       "      <td>1</td>\n",
       "      <td>11</td>\n",
       "      <td>A+</td>\n",
       "    </tr>\n",
       "  </tbody>\n",
       "</table>\n",
       "</div>"
      ],
      "text/plain": [
       "   PCOS  age  weight   height        BMI  pulse_rate  RR  marriage_years  \\\n",
       "0     0   33    58.5  159.000  23.139907          72  20            13.0   \n",
       "1     1   27    50.0  168.000  17.715420          72  18             7.0   \n",
       "2     0   38    70.0  164.592  25.839291          72  18             8.0   \n",
       "3     0   34    60.0  156.000  24.654832          74  20             7.0   \n",
       "4     1   31    50.0  158.000  20.028842          74  20            11.0   \n",
       "\n",
       "   fast_food  pregnant  number_abortions  h/w_ratio  regular_excercise  cycle  \\\n",
       "0        0.0         1                 2   1.157895                  0      2   \n",
       "1        0.0         0                 0   1.040000                  0      4   \n",
       "2        0.0         0                 0   1.095238                  0      2   \n",
       "3        0.0         0                 0   1.218750                  0      2   \n",
       "4        1.0         0                 0   1.200000                  1      2   \n",
       "\n",
       "   hair_growth  pimples  Blood Group blood_group_cat  \n",
       "0            0        0           13              B+  \n",
       "1            1        1           13              B+  \n",
       "2            1        1           16              O-  \n",
       "3            0        0           14              B-  \n",
       "4            0        1           11              A+  "
      ]
     },
     "execution_count": 40,
     "metadata": {},
     "output_type": "execute_result"
    }
   ],
   "source": [
    "blood_group_map = {11: \"A+\", 12: \"A-\", 13: \"B+\", 14: \"B-\", 15: \"O+\", 16: \"O-\", 17: \"AB+\", 18: \"AB-\"}\n",
    "\n",
    "data.loc[:, \"blood_group_cat\"] = data.loc[:, \"Blood Group\"].map(blood_group_map)\n",
    "data.head()"
   ]
  },
  {
   "cell_type": "markdown",
   "id": "91db31e1",
   "metadata": {},
   "source": [
    "# EDA"
   ]
  },
  {
   "cell_type": "markdown",
   "id": "4b7d3836",
   "metadata": {},
   "source": [
    "### Testing if age needs transformation"
   ]
  },
  {
   "cell_type": "code",
   "execution_count": 45,
   "id": "b9a45e44",
   "metadata": {},
   "outputs": [
    {
     "data": {
      "text/plain": [
       "<AxesSubplot:xlabel='PCOS', ylabel='age'>"
      ]
     },
     "execution_count": 45,
     "metadata": {},
     "output_type": "execute_result"
    },
    {
     "data": {
      "image/png": "[encoded data removed]",
      "text/plain": [
       "<Figure size 640x480 with 1 Axes>"
      ]
     },
     "metadata": {},
     "output_type": "display_data"
    }
   ],
   "source": [
    "sns.boxplot(x = 'PCOS', y = 'age', data = data)"
   ]
  },
  {
   "cell_type": "code",
   "execution_count": 51,
   "id": "9d457fdf",
   "metadata": {},
   "outputs": [],
   "source": [
    "#Binning Age\n",
    "binned_age = pd.qcut(data['age'], 10, retbins=True)\n",
    "data['age_binned'] = binned_age[0]"
   ]
  },
  {
   "cell_type": "code",
   "execution_count": 52,
   "id": "c1b8abe1",
   "metadata": {},
   "outputs": [
    {
     "data": {
      "text/html": [
       "<div>\n",
       "<style scoped>\n",
       "    .dataframe tbody tr th:only-of-type {\n",
       "        vertical-align: middle;\n",
       "    }\n",
       "\n",
       "    .dataframe tbody tr th {\n",
       "        vertical-align: top;\n",
       "    }\n",
       "\n",
       "    .dataframe thead th {\n",
       "        text-align: right;\n",
       "    }\n",
       "</style>\n",
       "<table border=\"1\" class=\"dataframe\">\n",
       "  <thead>\n",
       "    <tr style=\"text-align: right;\">\n",
       "      <th></th>\n",
       "      <th>age_binned</th>\n",
       "      <th>PCOS_percent</th>\n",
       "      <th>nobs</th>\n",
       "    </tr>\n",
       "  </thead>\n",
       "  <tbody>\n",
       "    <tr>\n",
       "      <th>0</th>\n",
       "      <td>(19.999, 25.0]</td>\n",
       "      <td>0.662500</td>\n",
       "      <td>80</td>\n",
       "    </tr>\n",
       "    <tr>\n",
       "      <th>1</th>\n",
       "      <td>(25.0, 27.0]</td>\n",
       "      <td>0.507042</td>\n",
       "      <td>71</td>\n",
       "    </tr>\n",
       "    <tr>\n",
       "      <th>2</th>\n",
       "      <td>(27.0, 28.0]</td>\n",
       "      <td>0.630435</td>\n",
       "      <td>46</td>\n",
       "    </tr>\n",
       "    <tr>\n",
       "      <th>3</th>\n",
       "      <td>(28.0, 29.0]</td>\n",
       "      <td>0.697674</td>\n",
       "      <td>43</td>\n",
       "    </tr>\n",
       "    <tr>\n",
       "      <th>4</th>\n",
       "      <td>(29.0, 31.0]</td>\n",
       "      <td>0.568182</td>\n",
       "      <td>88</td>\n",
       "    </tr>\n",
       "    <tr>\n",
       "      <th>5</th>\n",
       "      <td>(31.0, 32.0]</td>\n",
       "      <td>0.363636</td>\n",
       "      <td>44</td>\n",
       "    </tr>\n",
       "    <tr>\n",
       "      <th>6</th>\n",
       "      <td>(32.0, 34.0]</td>\n",
       "      <td>0.462963</td>\n",
       "      <td>54</td>\n",
       "    </tr>\n",
       "    <tr>\n",
       "      <th>7</th>\n",
       "      <td>(34.0, 35.0]</td>\n",
       "      <td>0.410256</td>\n",
       "      <td>39</td>\n",
       "    </tr>\n",
       "    <tr>\n",
       "      <th>8</th>\n",
       "      <td>(35.0, 38.0]</td>\n",
       "      <td>0.328358</td>\n",
       "      <td>67</td>\n",
       "    </tr>\n",
       "    <tr>\n",
       "      <th>9</th>\n",
       "      <td>(38.0, 48.0]</td>\n",
       "      <td>0.270833</td>\n",
       "      <td>48</td>\n",
       "    </tr>\n",
       "  </tbody>\n",
       "</table>\n",
       "</div>"
      ],
      "text/plain": [
       "       age_binned  PCOS_percent  nobs\n",
       "0  (19.999, 25.0]      0.662500    80\n",
       "1    (25.0, 27.0]      0.507042    71\n",
       "2    (27.0, 28.0]      0.630435    46\n",
       "3    (28.0, 29.0]      0.697674    43\n",
       "4    (29.0, 31.0]      0.568182    88\n",
       "5    (31.0, 32.0]      0.363636    44\n",
       "6    (32.0, 34.0]      0.462963    54\n",
       "7    (34.0, 35.0]      0.410256    39\n",
       "8    (35.0, 38.0]      0.328358    67\n",
       "9    (38.0, 48.0]      0.270833    48"
      ]
     },
     "execution_count": 52,
     "metadata": {},
     "output_type": "execute_result"
    }
   ],
   "source": [
    "#Finding percentage of people having diabetes in each Age bin\n",
    "age_data = data.groupby('age_binned')['PCOS'].agg([('PCOS_percent','mean'),('nobs','count')]).reset_index(drop=False)\n",
    "age_data"
   ]
  },
  {
   "cell_type": "code",
   "execution_count": 53,
   "id": "64e9dec0",
   "metadata": {},
   "outputs": [
    {
     "data": {
      "text/plain": [
       "Text(0.5, 0, 'Age_bin')"
      ]
     },
     "execution_count": 53,
     "metadata": {},
     "output_type": "execute_result"
    },
    {
     "data": {
      "image/png": "[encoded data removed]",
      "text/plain": [
       "<Figure size 640x480 with 1 Axes>"
      ]
     },
     "metadata": {},
     "output_type": "display_data"
    }
   ],
   "source": [
    "sns.lineplot(x = age_data.index, y = age_data['PCOS_percent'])\n",
    "plt.xlabel('Age_bin')"
   ]
  },
  {
   "cell_type": "markdown",
   "id": "03898318",
   "metadata": {},
   "source": [
    "We observe that the probability of people having PCOS does not keep decreasing monotonically with age. However, it is still relatively linear, so we do not need to perform a transformation."
   ]
  },
  {
   "cell_type": "markdown",
   "id": "05242554",
   "metadata": {},
   "source": [
    "### Testing if weight needs transformation"
   ]
  },
  {
   "cell_type": "code",
   "execution_count": 54,
   "id": "444b8b27",
   "metadata": {},
   "outputs": [
    {
     "data": {
      "text/plain": [
       "<AxesSubplot:xlabel='PCOS', ylabel='weight'>"
      ]
     },
     "execution_count": 54,
     "metadata": {},
     "output_type": "execute_result"
    },
    {
     "data": {
      "image/png": "[encoded data removed]",
      "text/plain": [
       "<Figure size 640x480 with 1 Axes>"
      ]
     },
     "metadata": {},
     "output_type": "display_data"
    }
   ],
   "source": [
    "sns.boxplot(x = 'PCOS', y = 'weight', data = data)"
   ]
  },
  {
   "cell_type": "code",
   "execution_count": 56,
   "id": "bf27528a",
   "metadata": {},
   "outputs": [],
   "source": [
    "#Binning weight\n",
    "binned_weight = pd.qcut(data['weight'], 6, retbins=True)\n",
    "data['weight_binned'] = binned_weight[0]"
   ]
  },
  {
   "cell_type": "code",
   "execution_count": 57,
   "id": "d142213b",
   "metadata": {},
   "outputs": [
    {
     "data": {
      "text/html": [
       "<div>\n",
       "<style scoped>\n",
       "    .dataframe tbody tr th:only-of-type {\n",
       "        vertical-align: middle;\n",
       "    }\n",
       "\n",
       "    .dataframe tbody tr th {\n",
       "        vertical-align: top;\n",
       "    }\n",
       "\n",
       "    .dataframe thead th {\n",
       "        text-align: right;\n",
       "    }\n",
       "</style>\n",
       "<table border=\"1\" class=\"dataframe\">\n",
       "  <thead>\n",
       "    <tr style=\"text-align: right;\">\n",
       "      <th></th>\n",
       "      <th>weight_binned</th>\n",
       "      <th>PCOS_percent</th>\n",
       "      <th>nobs</th>\n",
       "    </tr>\n",
       "  </thead>\n",
       "  <tbody>\n",
       "    <tr>\n",
       "      <th>0</th>\n",
       "      <td>(30.999, 50.562]</td>\n",
       "      <td>0.319588</td>\n",
       "      <td>97</td>\n",
       "    </tr>\n",
       "    <tr>\n",
       "      <th>1</th>\n",
       "      <td>(50.562, 55.0]</td>\n",
       "      <td>0.471154</td>\n",
       "      <td>104</td>\n",
       "    </tr>\n",
       "    <tr>\n",
       "      <th>2</th>\n",
       "      <td>(55.0, 59.951]</td>\n",
       "      <td>0.573034</td>\n",
       "      <td>89</td>\n",
       "    </tr>\n",
       "    <tr>\n",
       "      <th>3</th>\n",
       "      <td>(59.951, 64.0]</td>\n",
       "      <td>0.415094</td>\n",
       "      <td>106</td>\n",
       "    </tr>\n",
       "    <tr>\n",
       "      <th>4</th>\n",
       "      <td>(64.0, 70.587]</td>\n",
       "      <td>0.563218</td>\n",
       "      <td>87</td>\n",
       "    </tr>\n",
       "    <tr>\n",
       "      <th>5</th>\n",
       "      <td>(70.587, 108.0]</td>\n",
       "      <td>0.680412</td>\n",
       "      <td>97</td>\n",
       "    </tr>\n",
       "  </tbody>\n",
       "</table>\n",
       "</div>"
      ],
      "text/plain": [
       "      weight_binned  PCOS_percent  nobs\n",
       "0  (30.999, 50.562]      0.319588    97\n",
       "1    (50.562, 55.0]      0.471154   104\n",
       "2    (55.0, 59.951]      0.573034    89\n",
       "3    (59.951, 64.0]      0.415094   106\n",
       "4    (64.0, 70.587]      0.563218    87\n",
       "5   (70.587, 108.0]      0.680412    97"
      ]
     },
     "execution_count": 57,
     "metadata": {},
     "output_type": "execute_result"
    }
   ],
   "source": [
    "#Finding percentage of people having diabetes in each Age bin\n",
    "weight_data = data.groupby('weight_binned')['PCOS'].agg([('PCOS_percent','mean'),('nobs','count')]).reset_index(drop=False)\n",
    "weight_data"
   ]
  },
  {
   "cell_type": "code",
   "execution_count": 59,
   "id": "a2c21749",
   "metadata": {},
   "outputs": [
    {
     "data": {
      "text/plain": [
       "Text(0.5, 0, 'Weight_bin')"
      ]
     },
     "execution_count": 59,
     "metadata": {},
     "output_type": "execute_result"
    },
    {
     "data": {
      "image/png": "[encoded data removed]",
      "text/plain": [
       "<Figure size 640x480 with 1 Axes>"
      ]
     },
     "metadata": {},
     "output_type": "display_data"
    }
   ],
   "source": [
    "sns.lineplot(x = weight_data.index, y = weight_data['PCOS_percent'])\n",
    "plt.xlabel('Weight_bin')"
   ]
  },
  {
   "cell_type": "markdown",
   "id": "e9187ac0",
   "metadata": {},
   "source": [
    "# Logistic Regression"
   ]
  },
  {
   "cell_type": "code",
   "execution_count": 42,
   "id": "048239f2",
   "metadata": {},
   "outputs": [
    {
     "name": "stdout",
     "output_type": "stream",
     "text": [
      "Optimization terminated successfully.\n",
      "         Current function value: 0.669478\n",
      "         Iterations 5\n"
     ]
    },
    {
     "data": {
      "text/html": [
       "<table class=\"simpletable\">\n",
       "<caption>Logit Regression Results</caption>\n",
       "<tr>\n",
       "  <th>Dep. Variable:</th>         <td>PCOS</td>       <th>  No. Observations:  </th>  <td>   580</td>  \n",
       "</tr>\n",
       "<tr>\n",
       "  <th>Model:</th>                 <td>Logit</td>      <th>  Df Residuals:      </th>  <td>   578</td>  \n",
       "</tr>\n",
       "<tr>\n",
       "  <th>Method:</th>                 <td>MLE</td>       <th>  Df Model:          </th>  <td>     1</td>  \n",
       "</tr>\n",
       "<tr>\n",
       "  <th>Date:</th>            <td>Sat, 18 Feb 2023</td> <th>  Pseudo R-squ.:     </th>  <td>0.03415</td> \n",
       "</tr>\n",
       "<tr>\n",
       "  <th>Time:</th>                <td>14:43:01</td>     <th>  Log-Likelihood:    </th> <td> -388.30</td> \n",
       "</tr>\n",
       "<tr>\n",
       "  <th>converged:</th>             <td>True</td>       <th>  LL-Null:           </th> <td> -402.03</td> \n",
       "</tr>\n",
       "<tr>\n",
       "  <th>Covariance Type:</th>     <td>nonrobust</td>    <th>  LLR p-value:       </th> <td>1.607e-07</td>\n",
       "</tr>\n",
       "</table>\n",
       "<table class=\"simpletable\">\n",
       "<tr>\n",
       "      <td></td>         <th>coef</th>     <th>std err</th>      <th>z</th>      <th>P>|z|</th>  <th>[0.025</th>    <th>0.975]</th>  \n",
       "</tr>\n",
       "<tr>\n",
       "  <th>Intercept</th> <td>   -2.4610</td> <td>    0.497</td> <td>   -4.951</td> <td> 0.000</td> <td>   -3.435</td> <td>   -1.487</td>\n",
       "</tr>\n",
       "<tr>\n",
       "  <th>weight</th>    <td>    0.0409</td> <td>    0.008</td> <td>    5.011</td> <td> 0.000</td> <td>    0.025</td> <td>    0.057</td>\n",
       "</tr>\n",
       "</table>"
      ],
      "text/plain": [
       "<class 'statsmodels.iolib.summary.Summary'>\n",
       "\"\"\"\n",
       "                           Logit Regression Results                           \n",
       "==============================================================================\n",
       "Dep. Variable:                   PCOS   No. Observations:                  580\n",
       "Model:                          Logit   Df Residuals:                      578\n",
       "Method:                           MLE   Df Model:                            1\n",
       "Date:                Sat, 18 Feb 2023   Pseudo R-squ.:                 0.03415\n",
       "Time:                        14:43:01   Log-Likelihood:                -388.30\n",
       "converged:                       True   LL-Null:                       -402.03\n",
       "Covariance Type:            nonrobust   LLR p-value:                 1.607e-07\n",
       "==============================================================================\n",
       "                 coef    std err          z      P>|z|      [0.025      0.975]\n",
       "------------------------------------------------------------------------------\n",
       "Intercept     -2.4610      0.497     -4.951      0.000      -3.435      -1.487\n",
       "weight         0.0409      0.008      5.011      0.000       0.025       0.057\n",
       "==============================================================================\n",
       "\"\"\""
      ]
     },
     "execution_count": 42,
     "metadata": {},
     "output_type": "execute_result"
    }
   ],
   "source": [
    "model1 = smf.logit(\"PCOS ~ weight\", data = data).fit()\n",
    "model1.summary()"
   ]
  },
  {
   "cell_type": "code",
   "execution_count": 43,
   "id": "320c86e5",
   "metadata": {},
   "outputs": [
    {
     "name": "stdout",
     "output_type": "stream",
     "text": [
      "Classification accuracy = 56.0%\n"
     ]
    },
    {
     "data": {
      "image/png": "[encoded data removed]",
      "text/plain": [
       "<Figure size 640x480 with 2 Axes>"
      ]
     },
     "metadata": {},
     "output_type": "display_data"
    }
   ],
   "source": [
    "#Function to compute confusion matrix and prediction accuracy on training data\n",
    "def confusion_matrix_train(model,cutoff=0.5):\n",
    "    # Confusion matrix\n",
    "    cm_df = pd.DataFrame(model.pred_table(threshold = cutoff))\n",
    "    #Formatting the confusion matrix\n",
    "    cm_df.columns = ['Predicted 0', 'Predicted 1'] \n",
    "    cm_df = cm_df.rename(index={0: 'Actual 0',1: 'Actual 1'})\n",
    "    cm = np.array(cm_df)\n",
    "    # Calculate the accuracy\n",
    "    accuracy = (cm[0,0]+cm[1,1])/cm.sum()\n",
    "    sns.heatmap(cm_df, annot=True, cmap='Blues', fmt='g')\n",
    "    plt.ylabel(\"Actual Values\")\n",
    "    plt.xlabel(\"Predicted Values\")\n",
    "    print(\"Classification accuracy = {:.1%}\".format(accuracy))\n",
    "    \n",
    "confusion_matrix_train(model1)"
   ]
  },
  {
   "cell_type": "code",
   "execution_count": null,
   "id": "fd386a74",
   "metadata": {},
   "outputs": [],
   "source": [
    "#"
   ]
  }
 ],
 "metadata": {
  "kernelspec": {
   "display_name": "Python 3 (ipykernel)",
   "language": "python",
   "name": "python3"
  },
  "language_info": {
   "codemirror_mode": {
    "name": "ipython",
    "version": 3
   },
   "file_extension": ".py",
   "mimetype": "text/x-python",
   "name": "python",
   "nbconvert_exporter": "python",
   "pygments_lexer": "ipython3",
   "version": "3.9.12"
  }
 },
 "nbformat": 4,
 "nbformat_minor": 5
}
