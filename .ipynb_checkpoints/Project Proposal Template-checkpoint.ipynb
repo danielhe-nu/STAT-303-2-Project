{
 "cells": [
  {
   "cell_type": "raw",
   "id": "33dd6c4c",
   "metadata": {},
   "source": [
    "---\n",
    "title: \"Project proposal\"\n",
    "format: \n",
    "  html:\n",
    "    toc: true\n",
    "    toc-title: Contents\n",
    "    code-fold: show\n",
    "    self-contained: true\n",
    "jupyter: python3\n",
    "---"
   ]
  },
  {
   "cell_type": "markdown",
   "id": "0116f49b",
   "metadata": {},
   "source": [
    "## Instructions {-}\n",
    "\n",
    "1. Please answer the following questions as part of your project proposal.\n",
    "\n",
    "2. Write your answers in the *Markdown* cells of the Jupyter notebook. You don't need to write any code, but if you want to, you may use the *Code* cells.\n",
    "\n",
    "3. Use [Quarto](https://quarto.org/docs/output-formats/html-basics.html) to print the *.ipynb* file as HTML. You will need to open the command prompt, navigate to the directory containing the file, and use the command: `quarto render filename.ipynb --to html`. Submit the HTML file.\n",
    "\n",
    "4. The project proposal is worth 8 points, and is due on **27th January 2023 at 11:59 pm**. \n",
    "\n",
    "5. You must make one submission as a group, and not individually.\n",
    "\n",
    "6. Each team member must have at least **one commit** on the team's github repository. No points will be awarded to the team member(s) with no commits.\n",
    "\n",
    "7. Share the link of your project's GitHub repository [here](https://docs.google.com/spreadsheets/d/1khao3unpj_vsx4kOSg_Zzo77YK1UWL2w73Oa0aAirOo/edit#gid=0)."
   ]
  },
  {
   "cell_type": "markdown",
   "id": "fe7ea9bb",
   "metadata": {},
   "source": [
    "# 1) Team name\n",
    "Mention your team name.\n",
    "\n",
    "*(0 points)*"
   ]
  },
  {
   "cell_type": "markdown",
   "id": "ae3caf22",
   "metadata": {},
   "source": [
    "**Team YEDA**"
   ]
  },
  {
   "cell_type": "markdown",
   "id": "16fccc9b",
   "metadata": {},
   "source": [
    "# 2) Member names\n",
    "Mention the names of your team members.\n",
    "\n",
    "*(0 points)*"
   ]
  },
  {
   "cell_type": "markdown",
   "id": "d3e15627",
   "metadata": {},
   "source": [
    "**Yida Hao, Erica Zhou, Daniel He, Anjali Patel**"
   ]
  },
  {
   "cell_type": "markdown",
   "id": "220a6528",
   "metadata": {},
   "source": [
    "# 3) Link to the GitHub repository\n",
    "Share the link of the team's project repository on GitHub.\n",
    "\n",
    "Also, put the link of your project's GitHub repository [here](https://docs.google.com/spreadsheets/d/1khao3unpj_vsx4kOSg_Zzo77YK1UWL2w73Oa0aAirOo/edit#gid=0).\n",
    "\n",
    "We believe there is no harm in having other teams view your GitHub repository. However, if you don't want anyone to see your team's work, you may make the repository *Private* and add your instructor and graduate TA as *Colloborators* in it.\n",
    "\n",
    "*(0 points)*"
   ]
  },
  {
   "cell_type": "markdown",
   "id": "d5e0ea3e",
   "metadata": {},
   "source": [
    "**Added link to spreadsheet**\n",
    "<br> commit made by Erica"
   ]
  },
  {
   "cell_type": "markdown",
   "id": "16c1a490",
   "metadata": {},
   "source": [
    "# 4) Topic\n",
    "Mention the topic of your course project.\n",
    "\n",
    "*(0.25 points)*"
   ]
  },
  {
   "cell_type": "markdown",
   "id": "9e182cec",
   "metadata": {},
   "source": [
    "**Determining the probability of having PCOS (Polycystic Ovary Syndrome) based on medical and lifestyle characteristics.**"
   ]
  },
  {
   "cell_type": "markdown",
   "id": "9403cdfb",
   "metadata": {},
   "source": [
    "# 5) Problem statement\n",
    "Explain the problem statement. The problem statement must include:\n",
    "\n",
    "1. The problem\n",
    "\n",
    "2. Is it a regression or classification problem or a combination of both?\n",
    "\n",
    "3. Is it an inference or prediction problem or a combination of both?\n",
    "\n",
    "4. How will you assess model accuracy?\n",
    "\n",
    "  - If it is a classification problem, then which measure(s) will you optimize for your model – precision, recall, false negative rate (FNR), accuracy, ROC-AUC etc., and why?\n",
    "  - If it is a regression problem, then which measure(s) will you optimize for your model – RMSE (Root mean squared error), MAE (mean absolute error), maximum absolute error etc., and why?\n",
    "\n",
    "5. What techniques do you think you may need to use to improve your model? If you have too many variables, some of which are  correlated or collinear, you may need to do variable selection *(techniques for variable selection that you will learn later in the course - stepwise regression, lasso, ridge regression)*. If the variables do not have a linear relationship with the response, or if some of the modeling assumptions are not satisfied, you may need to transform the predictors and/or the response (variable transformation) to obtain a better fit.\n",
    "\n",
    "*(5 points)*"
   ]
  },
  {
   "cell_type": "markdown",
   "id": "465127c3",
   "metadata": {},
   "source": [
    "**1. We wish to determine the relationship between certain physical and social characteristics of a person with their likelihood of being diagnosed with PCOS.**\n",
    "\n",
    "**2. This is a classification problem since we are analyzing how different predictors affects the threshold probability of having PCOS.**\n",
    "\n",
    "**3. This is an inference problem since we care about the association between our predictors and the chance of having PCOS. We care about finding group differences that might affect this likelihood, rather than building classifiers to make predictions at a subject level.**\n",
    "\n",
    "**4. Because accuracy is measured by the ratio of correct predictions/total number of predictions, we would want to minimize the False Negative Rate in particular. We would not want to falsely assume someone does not have PCOS when they actually do, which could lead to infertility. We also want to consider the False Positive Rate, as those incorrectly diagnosed could take treatments that aren't necessary.**\n",
    "\n",
    "**5. Some predictors could be correlated with each other, such as weight and waist measurements, so we will strategically merge or select variables to mitigate this effect. We will also analyze whether certain predictors have a linear relationship with having PCOS (response) by creating a scatterplot. Then we can identify potential transformations to create a better fit for the model.**"
   ]
  },
  {
   "cell_type": "markdown",
   "id": "3eb2d4f2",
   "metadata": {},
   "source": [
    "# 6) Data sources\n",
    "\n",
    "What data sources will you use, and how will the data help answer the questions? Explain.\n",
    "\n",
    "If the data is open source, share the link of the data.\n",
    "\n",
    "*(1 point)*"
   ]
  },
  {
   "cell_type": "markdown",
   "id": "27cb1b99",
   "metadata": {},
   "source": [
    "https://www.kaggle.com/datasets/prasoonkottarathil/polycystic-ovary-syndrome-pcos\n",
    "\n",
    "**This is a 2020 dataset that contains many physical and medical predictors that determine PCOS (Polycystic Ovary Syndrome) and fertility related issues. We will create a model to determine the relationship of some of the 44 included predictors with one's likelihood of having PCOS. The dataset includes both binary and continuous predictors, and we plan on using both types to create our model. We will also explore potential interactions among these predictors.**"
   ]
  },
  {
   "cell_type": "markdown",
   "id": "cb8a845f",
   "metadata": {},
   "source": [
    "# 7) Stakeholders"
   ]
  },
  {
   "cell_type": "markdown",
   "id": "d39c782c",
   "metadata": {},
   "source": [
    "Who are the stakeholders, and how will your project benefit them? Explain.\n",
    "\n",
    "*(1 point)*"
   ]
  },
  {
   "cell_type": "markdown",
   "id": "a3d8cf14",
   "metadata": {},
   "source": [
    "**1. All females: One in three women are diagnosed with PCOS. Not addressing the symptoms could lead to infertility. By creating a model to analyze which predictors have strong associations with having PCOS, we can help women change their behaviors and manage their health to minimize their chances of being diagnosed. PCOS long-term could also increase one's chances of diabetes and heart attacks (high cholesterol), so understanding the symptoms early is key.**\n",
    "\n",
    "**2. Gynecologists: This model can help gynecologists catch PCOS early in their patients. There may be certain predictors that aren't typically considered symptoms, but if we identify a high association that could help doctors better recognize PCOS in its early stages.**"
   ]
  },
  {
   "cell_type": "markdown",
   "id": "57e41b2a",
   "metadata": {},
   "source": [
    "# 8) Results\n",
    "What kind of results do you expect? \n",
    "\n",
    "How much accuracy is required / desired in your model (based on the metric(s) chosen in question 5), such that it is useful to the stakeholders and why?\n",
    "\n",
    "**Hint:** If it is a classification model, then your model must be at least better than random classification. If it is a regression model, then your model must be at least better than trivial models, such as the one with only the intercept term.\n",
    "\n",
    "*(0.5 point)*"
   ]
  },
  {
   "cell_type": "markdown",
   "id": "0e56560f",
   "metadata": {},
   "source": [
    "**Random classification would imply that 33.33% of women are predicted to have PCOS. We would want our classification model to be more accurate than a model that randomly selected 1 of 3 women. This would be more useful to stakeholders because we could provide a more accurate picture of what predictors are tied to PCOS than what is currently in the women's reproductive health field.**\n",
    "\n",
    "**We will add a robustness check as we have a smaller dataset of about 500 observations. By selecting various subsets and testing the outcome of our model, we will verify that our dataset accurately reflects the population.**"
   ]
  },
  {
   "cell_type": "markdown",
   "id": "0c874b4f",
   "metadata": {},
   "source": [
    "# 9) Work-split\n",
    "How do you plan to split the project work amongst individual team members?\n",
    "\n",
    "*(0.25 point)*"
   ]
  },
  {
   "cell_type": "markdown",
   "id": "b73d8938",
   "metadata": {},
   "source": [
    "**Data Cleaning: Yida and Erica will create subsets of predictors we will use, drop outliers and N/A observations, adjust variable names/values to be easier to use, merge predictors, etc.**\n",
    "\n",
    "**Setting up regression: Daniel and Anjali will create the initial main regression model, test predictors for significance, transform model if necessary.**\n",
    "\n",
    "**Analysis: Everyone will help run the analysis portion of the project. This includes doing F-tests, creating sub-regression models with certain predictors to determine fit and accuracy, and any other theoretical analysis we will learn in class.**\n",
    "\n",
    "**Finalizing: Everyone will help put the project together. This includes making visualizations of individual predictors, graphical models of our final regression, adding the code/graphs/analysis into the template, etc.**"
   ]
  }
 ],
 "metadata": {
  "kernelspec": {
   "display_name": "Python 3 (ipykernel)",
   "language": "python",
   "name": "python3"
  },
  "language_info": {
   "codemirror_mode": {
    "name": "ipython",
    "version": 3
   },
   "file_extension": ".py",
   "mimetype": "text/x-python",
   "name": "python",
   "nbconvert_exporter": "python",
   "pygments_lexer": "ipython3",
   "version": "3.9.7"
  }
 },
 "nbformat": 4,
 "nbformat_minor": 5
}
